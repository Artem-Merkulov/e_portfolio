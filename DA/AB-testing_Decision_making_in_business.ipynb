{
 "cells": [
  {
   "cell_type": "markdown",
   "metadata": {},
   "source": [
    "# A/B-тестирование. Принятие решений в бизнесе."
   ]
  },
  {
   "cell_type": "markdown",
   "metadata": {},
   "source": [
    "## Описание проекта\n",
    "\n",
    "В отделе маркетинга крупного интернет-магазина подготовили список гипотез для увеличения выручки.\n",
    "Необходимо приоритизировать гипотезы, запустить A/B-тест и проанализировать результаты. "
   ]
  },
  {
   "cell_type": "markdown",
   "metadata": {},
   "source": [
    "**Задачи проекта:**\n",
    "\n",
    "Часть 1.\n",
    "\n",
    "* Расставить приоритет для гипотез методами ICE и RICE, описать различия этих методов, сделать выводы.\n",
    "\n",
    "Часть 2. Провести анализ А/В теста по данным из задания.\n",
    "\n",
    "\n",
    "Провести анализ А/В теста по данным из задания.\n",
    "\n",
    "* Произвести предобработку данных в датафреймах.\n",
    "* Проверить размеры групп в выборке, понять есть ли разница между ними.\n",
    "* Проверить, корректно ли был рассчитан размер выборки для проведения теста.\n",
    "* Произвести анализ выбросов и аномалий, принять решение \"удалить или сохранить аномальные данные\".\n",
    "* Произвести анализ кумулятивных метрик по выручке, среднего чека и конверсии.\n",
    "* Принять решение по результатам А/В теста и объяснить его."
   ]
  },
  {
   "cell_type": "markdown",
   "metadata": {},
   "source": [
    "### Описание данных\n",
    "\n",
    "**Данные для первой части**\n",
    "\n",
    "Файл /datasets/hypothesis.csv\n",
    "\n",
    "* Hypothesis — краткое описание гипотезы;\n",
    "* Reach — охват пользователей по 10-балльной шкале;\n",
    "* Impact — влияние на пользователей по 10-балльной шкале;\n",
    "* Confidence — уверенность в гипотезе по 10-балльной шкале;\n",
    "* Efforts — затраты ресурсов на проверку гипотезы по 10-балльной шкале. Чем больше значение Efforts, тем дороже проверка гипотезы.\n",
    "\n",
    "**Данные для второй части**\n",
    "\n",
    "Файл /datasets/orders.csv\n",
    "\n",
    "* transactionId — идентификатор заказа;\n",
    "* visitorId — идентификатор пользователя, совершившего заказ;\n",
    "* date — дата, когда был совершён заказ;\n",
    "* revenue — выручка заказа;\n",
    "* group — группа A/B-теста, в которую попал заказ.\n",
    "\n",
    "Файл /datasets/visitors.csv\n",
    "\n",
    "* date — дата;\n",
    "* group — группа A/B-теста;\n",
    "* visitors — количество пользователей в указанную дату в указанной группе A/B-теста"
   ]
  },
  {
   "cell_type": "markdown",
   "metadata": {},
   "source": [
    "## Выполнение"
   ]
  },
  {
   "cell_type": "markdown",
   "metadata": {},
   "source": [
    "**Импортирую библиотеки и сохраняю таблицы в переменные:**"
   ]
  },
  {
   "cell_type": "code",
   "execution_count": 2,
   "metadata": {},
   "outputs": [],
   "source": [
    "# Импорты\n",
    "import pandas as pd #+\n",
    "import numpy as np #+\n",
    "import datetime as dt #+\n",
    "from matplotlib import pyplot as plt #+\n",
    "import scipy.stats as stats #+"
   ]
  },
  {
   "cell_type": "markdown",
   "metadata": {},
   "source": [
    "## Часть 1. Приоритизация гипотез."
   ]
  },
  {
   "cell_type": "markdown",
   "metadata": {},
   "source": [
    "**Импортирую данные:**"
   ]
  },
  {
   "cell_type": "code",
   "execution_count": 3,
   "metadata": {},
   "outputs": [],
   "source": [
    "hypothesis = pd.read_csv('https://code.s3.yandex.net/datasets/hypothesis.csv')"
   ]
  },
  {
   "cell_type": "markdown",
   "metadata": {},
   "source": [
    "**Знакомлюсь с гипотезами:**"
   ]
  },
  {
   "cell_type": "code",
   "execution_count": 3,
   "metadata": {},
   "outputs": [
    {
     "data": {
      "text/html": [
       "<div>\n",
       "<style scoped>\n",
       "    .dataframe tbody tr th:only-of-type {\n",
       "        vertical-align: middle;\n",
       "    }\n",
       "\n",
       "    .dataframe tbody tr th {\n",
       "        vertical-align: top;\n",
       "    }\n",
       "\n",
       "    .dataframe thead th {\n",
       "        text-align: right;\n",
       "    }\n",
       "</style>\n",
       "<table border=\"1\" class=\"dataframe\">\n",
       "  <thead>\n",
       "    <tr style=\"text-align: right;\">\n",
       "      <th></th>\n",
       "      <th>Hypothesis</th>\n",
       "      <th>Reach</th>\n",
       "      <th>Impact</th>\n",
       "      <th>Confidence</th>\n",
       "      <th>Efforts</th>\n",
       "    </tr>\n",
       "  </thead>\n",
       "  <tbody>\n",
       "    <tr>\n",
       "      <th>0</th>\n",
       "      <td>Добавить два новых канала привлечения трафика, что позволит привлекать на 30% больше пользователей</td>\n",
       "      <td>3</td>\n",
       "      <td>10</td>\n",
       "      <td>8</td>\n",
       "      <td>6</td>\n",
       "    </tr>\n",
       "    <tr>\n",
       "      <th>1</th>\n",
       "      <td>Запустить собственную службу доставки, что сократит срок доставки заказов</td>\n",
       "      <td>2</td>\n",
       "      <td>5</td>\n",
       "      <td>4</td>\n",
       "      <td>10</td>\n",
       "    </tr>\n",
       "    <tr>\n",
       "      <th>2</th>\n",
       "      <td>Добавить блоки рекомендаций товаров на сайт интернет магазина, чтобы повысить конверсию и средний чек заказа</td>\n",
       "      <td>8</td>\n",
       "      <td>3</td>\n",
       "      <td>7</td>\n",
       "      <td>3</td>\n",
       "    </tr>\n",
       "    <tr>\n",
       "      <th>3</th>\n",
       "      <td>Изменить структура категорий, что увеличит конверсию, т.к. пользователи быстрее найдут нужный товар</td>\n",
       "      <td>8</td>\n",
       "      <td>3</td>\n",
       "      <td>3</td>\n",
       "      <td>8</td>\n",
       "    </tr>\n",
       "    <tr>\n",
       "      <th>4</th>\n",
       "      <td>Изменить цвет фона главной страницы, чтобы увеличить вовлеченность пользователей</td>\n",
       "      <td>3</td>\n",
       "      <td>1</td>\n",
       "      <td>1</td>\n",
       "      <td>1</td>\n",
       "    </tr>\n",
       "    <tr>\n",
       "      <th>5</th>\n",
       "      <td>Добавить страницу отзывов клиентов о магазине, что позволит увеличить количество заказов</td>\n",
       "      <td>3</td>\n",
       "      <td>2</td>\n",
       "      <td>2</td>\n",
       "      <td>3</td>\n",
       "    </tr>\n",
       "    <tr>\n",
       "      <th>6</th>\n",
       "      <td>Показать на главной странице баннеры с актуальными акциями и распродажами, чтобы увеличить конверсию</td>\n",
       "      <td>5</td>\n",
       "      <td>3</td>\n",
       "      <td>8</td>\n",
       "      <td>3</td>\n",
       "    </tr>\n",
       "    <tr>\n",
       "      <th>7</th>\n",
       "      <td>Добавить форму подписки на все основные страницы, чтобы собрать базу клиентов для email-рассылок</td>\n",
       "      <td>10</td>\n",
       "      <td>7</td>\n",
       "      <td>8</td>\n",
       "      <td>5</td>\n",
       "    </tr>\n",
       "    <tr>\n",
       "      <th>8</th>\n",
       "      <td>Запустить акцию, дающую скидку на товар в день рождения</td>\n",
       "      <td>1</td>\n",
       "      <td>9</td>\n",
       "      <td>9</td>\n",
       "      <td>5</td>\n",
       "    </tr>\n",
       "  </tbody>\n",
       "</table>\n",
       "</div>"
      ],
      "text/plain": [
       "                                                                                                     Hypothesis  \\\n",
       "0            Добавить два новых канала привлечения трафика, что позволит привлекать на 30% больше пользователей   \n",
       "1                                     Запустить собственную службу доставки, что сократит срок доставки заказов   \n",
       "2  Добавить блоки рекомендаций товаров на сайт интернет магазина, чтобы повысить конверсию и средний чек заказа   \n",
       "3           Изменить структура категорий, что увеличит конверсию, т.к. пользователи быстрее найдут нужный товар   \n",
       "4                              Изменить цвет фона главной страницы, чтобы увеличить вовлеченность пользователей   \n",
       "5                      Добавить страницу отзывов клиентов о магазине, что позволит увеличить количество заказов   \n",
       "6          Показать на главной странице баннеры с актуальными акциями и распродажами, чтобы увеличить конверсию   \n",
       "7              Добавить форму подписки на все основные страницы, чтобы собрать базу клиентов для email-рассылок   \n",
       "8                                                       Запустить акцию, дающую скидку на товар в день рождения   \n",
       "\n",
       "   Reach  Impact  Confidence  Efforts  \n",
       "0      3      10           8        6  \n",
       "1      2       5           4       10  \n",
       "2      8       3           7        3  \n",
       "3      8       3           3        8  \n",
       "4      3       1           1        1  \n",
       "5      3       2           2        3  \n",
       "6      5       3           8        3  \n",
       "7     10       7           8        5  \n",
       "8      1       9           9        5  "
      ]
     },
     "metadata": {},
     "output_type": "display_data"
    }
   ],
   "source": [
    "pd.options.display.max_colwidth = 130\n",
    "\n",
    "display(hypothesis);"
   ]
  },
  {
   "cell_type": "markdown",
   "metadata": {},
   "source": [
    "**Описание компонентов:**\n",
    "\n",
    "* Reach — скольких пользователей затронет изменение, которое мы хотим внести;\n",
    "* Impact — насколько сильно изменение повлияет на пользователей, их опыт и удовлетворение от продукта;\n",
    "* Confidence — насколько мы уверены, что это изменение повлияет на пользователей именно так; \n",
    "* Efforts — сколько стоит протестировать эту гипотезу. "
   ]
  },
  {
   "cell_type": "markdown",
   "metadata": {},
   "source": [
    "**Решение:**"
   ]
  },
  {
   "cell_type": "markdown",
   "metadata": {},
   "source": [
    "**Применяю фреймворк ICE для приоритизации гипотез. Сортирую их по убыванию приоритета:**"
   ]
  },
  {
   "cell_type": "code",
   "execution_count": 4,
   "metadata": {},
   "outputs": [
    {
     "name": "stdout",
     "output_type": "stream",
     "text": [
      "                                                         Hypothesis    ICE\n",
      "8           Запустить акцию, дающую скидку на товар в день рождения  16.20\n",
      "0  Добавить два новых канала привлечения трафика, что позволит п...  13.33\n",
      "7  Добавить форму подписки на все основные страницы, чтобы собра...  11.20\n",
      "6  Показать на главной странице баннеры с актуальными акциями и ...   8.00\n",
      "2  Добавить блоки рекомендаций товаров на сайт интернет магазина...   7.00\n",
      "1  Запустить собственную службу доставки, что сократит срок дост...   2.00\n",
      "5  Добавить страницу отзывов клиентов о магазине, что позволит у...   1.33\n",
      "3  Изменить структура категорий, что увеличит конверсию, т.к. по...   1.12\n",
      "4  Изменить цвет фона главной страницы, чтобы увеличить вовлечен...   1.00\n"
     ]
    }
   ],
   "source": [
    "pd.options.display.max_colwidth = 65\n",
    "\n",
    "hypothesis['ICE'] = (hypothesis['Impact']*hypothesis['Confidence'])/hypothesis['Efforts']\n",
    "\n",
    "print(round(hypothesis[['Hypothesis', 'ICE']].sort_values(by='ICE', ascending=False), 2))"
   ]
  },
  {
   "cell_type": "markdown",
   "metadata": {},
   "source": [
    "По фреймворку ICE наибольшую оценку имеют гипотезы 8,0 и 7."
   ]
  },
  {
   "cell_type": "markdown",
   "metadata": {},
   "source": [
    "**Применяю фреймворк RICE для приоритизации гипотез. Сортирую их по убыванию приоритета:**"
   ]
  },
  {
   "cell_type": "markdown",
   "metadata": {},
   "source": [
    "Учтём охват изменений и применим фреймворк RICE:"
   ]
  },
  {
   "cell_type": "code",
   "execution_count": 5,
   "metadata": {},
   "outputs": [
    {
     "name": "stdout",
     "output_type": "stream",
     "text": [
      "                                                         Hypothesis   RICE\n",
      "7  Добавить форму подписки на все основные страницы, чтобы собра...  112.0\n",
      "2  Добавить блоки рекомендаций товаров на сайт интернет магазина...   56.0\n",
      "0  Добавить два новых канала привлечения трафика, что позволит п...   40.0\n",
      "6  Показать на главной странице баннеры с актуальными акциями и ...   40.0\n",
      "8           Запустить акцию, дающую скидку на товар в день рождения   16.2\n",
      "3  Изменить структура категорий, что увеличит конверсию, т.к. по...    9.0\n",
      "1  Запустить собственную службу доставки, что сократит срок дост...    4.0\n",
      "5  Добавить страницу отзывов клиентов о магазине, что позволит у...    4.0\n",
      "4  Изменить цвет фона главной страницы, чтобы увеличить вовлечен...    3.0\n"
     ]
    }
   ],
   "source": [
    "hypothesis['RICE'] = (hypothesis['Impact']*hypothesis['Confidence']*hypothesis['Reach'])/hypothesis['Efforts']\n",
    "\n",
    "print(hypothesis[['Hypothesis', 'RICE']].sort_values(by='RICE', ascending=False))"
   ]
  },
  {
   "cell_type": "markdown",
   "metadata": {},
   "source": [
    "После применения фреймворка RICE приоретизация гипотез изменилась. Теперь в приоритете гипотезы 7, 2 и 0. "
   ]
  },
  {
   "cell_type": "markdown",
   "metadata": {},
   "source": [
    "**Указываю, как изменилась приоритизация гипотез при применении RICE вместо ICE. Объясняю, почему так произошло:**"
   ]
  },
  {
   "cell_type": "markdown",
   "metadata": {},
   "source": [
    "При применении фреймворка ICE в приоритете гипотезы 8,0 и 7, при применении фреймворка RICE - 7, 2 и 0.\n",
    "\n",
    "Фреймворк RICE учитывает то, скольких пользователей затронет изменение, которое мы хотим внести.\n",
    "\n",
    "Так как фреймворк RICE позволяет учесть большее число параметров при расчёте приоритета гипотез, считаю целесообразным установить приоритет гипотез согласно выводу полученному при применении этого фреймворка. В нашем случае наиболее приоритетными гипотезами будут 7, 2, 0.\n",
    "\n",
    "**Полное название гипотез:**\n",
    "\n",
    "7 -\tДобавить форму подписки на все основные страницы, чтобы собрать базу клиентов для email-рассылок.\n",
    "\n",
    "2 -\tДобавить блоки рекомендаций товаров на сайт интернет магазина, чтобы повысить конверсию и средний чек заказа.\n",
    "\n",
    "0 -\tДобавить два новых канала привлечения трафика, что позволит привлекать на 30% больше пользователей.\n"
   ]
  },
  {
   "cell_type": "markdown",
   "metadata": {},
   "source": [
    "## Часть 2. Анализ A/B-теста"
   ]
  },
  {
   "cell_type": "markdown",
   "metadata": {},
   "source": [
    "**Мы провели A/B-тест и получили результаты, которые описаны в файлах /datasets/orders.csv и /datasets/visitors.csv:**"
   ]
  },
  {
   "cell_type": "markdown",
   "metadata": {},
   "source": [
    "**Импортирую данные:**"
   ]
  },
  {
   "cell_type": "code",
   "execution_count": 4,
   "metadata": {},
   "outputs": [],
   "source": [
    "orders = pd.read_csv('https://code.s3.yandex.net/datasets/orders.csv')\n",
    "visitors = pd.read_csv('https://code.s3.yandex.net/datasets/visitors.csv')"
   ]
  },
  {
   "cell_type": "markdown",
   "metadata": {},
   "source": [
    "**Знакомлюсь с данными:**"
   ]
  },
  {
   "cell_type": "code",
   "execution_count": 7,
   "metadata": {},
   "outputs": [
    {
     "data": {
      "text/html": [
       "<div>\n",
       "<style scoped>\n",
       "    .dataframe tbody tr th:only-of-type {\n",
       "        vertical-align: middle;\n",
       "    }\n",
       "\n",
       "    .dataframe tbody tr th {\n",
       "        vertical-align: top;\n",
       "    }\n",
       "\n",
       "    .dataframe thead th {\n",
       "        text-align: right;\n",
       "    }\n",
       "</style>\n",
       "<table border=\"1\" class=\"dataframe\">\n",
       "  <thead>\n",
       "    <tr style=\"text-align: right;\">\n",
       "      <th></th>\n",
       "      <th>transactionId</th>\n",
       "      <th>visitorId</th>\n",
       "      <th>date</th>\n",
       "      <th>revenue</th>\n",
       "      <th>group</th>\n",
       "    </tr>\n",
       "  </thead>\n",
       "  <tbody>\n",
       "    <tr>\n",
       "      <th>0</th>\n",
       "      <td>3667963787</td>\n",
       "      <td>3312258926</td>\n",
       "      <td>2019-08-15</td>\n",
       "      <td>1650</td>\n",
       "      <td>B</td>\n",
       "    </tr>\n",
       "    <tr>\n",
       "      <th>1</th>\n",
       "      <td>2804400009</td>\n",
       "      <td>3642806036</td>\n",
       "      <td>2019-08-15</td>\n",
       "      <td>730</td>\n",
       "      <td>B</td>\n",
       "    </tr>\n",
       "    <tr>\n",
       "      <th>2</th>\n",
       "      <td>2961555356</td>\n",
       "      <td>4069496402</td>\n",
       "      <td>2019-08-15</td>\n",
       "      <td>400</td>\n",
       "      <td>A</td>\n",
       "    </tr>\n",
       "    <tr>\n",
       "      <th>3</th>\n",
       "      <td>3797467345</td>\n",
       "      <td>1196621759</td>\n",
       "      <td>2019-08-15</td>\n",
       "      <td>9759</td>\n",
       "      <td>B</td>\n",
       "    </tr>\n",
       "    <tr>\n",
       "      <th>4</th>\n",
       "      <td>2282983706</td>\n",
       "      <td>2322279887</td>\n",
       "      <td>2019-08-15</td>\n",
       "      <td>2308</td>\n",
       "      <td>B</td>\n",
       "    </tr>\n",
       "  </tbody>\n",
       "</table>\n",
       "</div>"
      ],
      "text/plain": [
       "   transactionId   visitorId        date  revenue group\n",
       "0     3667963787  3312258926  2019-08-15     1650     B\n",
       "1     2804400009  3642806036  2019-08-15      730     B\n",
       "2     2961555356  4069496402  2019-08-15      400     A\n",
       "3     3797467345  1196621759  2019-08-15     9759     B\n",
       "4     2282983706  2322279887  2019-08-15     2308     B"
      ]
     },
     "metadata": {},
     "output_type": "display_data"
    }
   ],
   "source": [
    "display(orders.head(5));"
   ]
  },
  {
   "cell_type": "code",
   "execution_count": 8,
   "metadata": {},
   "outputs": [
    {
     "data": {
      "text/html": [
       "<div>\n",
       "<style scoped>\n",
       "    .dataframe tbody tr th:only-of-type {\n",
       "        vertical-align: middle;\n",
       "    }\n",
       "\n",
       "    .dataframe tbody tr th {\n",
       "        vertical-align: top;\n",
       "    }\n",
       "\n",
       "    .dataframe thead th {\n",
       "        text-align: right;\n",
       "    }\n",
       "</style>\n",
       "<table border=\"1\" class=\"dataframe\">\n",
       "  <thead>\n",
       "    <tr style=\"text-align: right;\">\n",
       "      <th></th>\n",
       "      <th>date</th>\n",
       "      <th>group</th>\n",
       "      <th>visitors</th>\n",
       "    </tr>\n",
       "  </thead>\n",
       "  <tbody>\n",
       "    <tr>\n",
       "      <th>0</th>\n",
       "      <td>2019-08-01</td>\n",
       "      <td>A</td>\n",
       "      <td>719</td>\n",
       "    </tr>\n",
       "    <tr>\n",
       "      <th>1</th>\n",
       "      <td>2019-08-02</td>\n",
       "      <td>A</td>\n",
       "      <td>619</td>\n",
       "    </tr>\n",
       "    <tr>\n",
       "      <th>2</th>\n",
       "      <td>2019-08-03</td>\n",
       "      <td>A</td>\n",
       "      <td>507</td>\n",
       "    </tr>\n",
       "    <tr>\n",
       "      <th>3</th>\n",
       "      <td>2019-08-04</td>\n",
       "      <td>A</td>\n",
       "      <td>717</td>\n",
       "    </tr>\n",
       "    <tr>\n",
       "      <th>4</th>\n",
       "      <td>2019-08-05</td>\n",
       "      <td>A</td>\n",
       "      <td>756</td>\n",
       "    </tr>\n",
       "  </tbody>\n",
       "</table>\n",
       "</div>"
      ],
      "text/plain": [
       "         date group  visitors\n",
       "0  2019-08-01     A       719\n",
       "1  2019-08-02     A       619\n",
       "2  2019-08-03     A       507\n",
       "3  2019-08-04     A       717\n",
       "4  2019-08-05     A       756"
      ]
     },
     "metadata": {},
     "output_type": "display_data"
    }
   ],
   "source": [
    "display(visitors.head(5));"
   ]
  },
  {
   "cell_type": "markdown",
   "metadata": {},
   "source": [
    "**Выполним предобработку данных:**"
   ]
  },
  {
   "cell_type": "markdown",
   "metadata": {},
   "source": [
    "Вывожу на экран наименования столбцов \"orders\":"
   ]
  },
  {
   "cell_type": "code",
   "execution_count": 9,
   "metadata": {},
   "outputs": [
    {
     "data": {
      "text/plain": [
       "Index(['transactionId', 'visitorId', 'date', 'revenue', 'group'], dtype='object')"
      ]
     },
     "execution_count": 9,
     "metadata": {},
     "output_type": "execute_result"
    }
   ],
   "source": [
    "orders.columns"
   ]
  },
  {
   "cell_type": "markdown",
   "metadata": {},
   "source": [
    "Необходимо привести названия столбцов и данных в них к \"змеиному регистру\"."
   ]
  },
  {
   "cell_type": "markdown",
   "metadata": {},
   "source": [
    "Привожу привести названия столбцов к \"змеиному регистру\":"
   ]
  },
  {
   "cell_type": "code",
   "execution_count": 10,
   "metadata": {},
   "outputs": [],
   "source": [
    "orders.columns = ['transactionid', 'visitorid', 'date', 'revenue', 'group']"
   ]
  },
  {
   "cell_type": "code",
   "execution_count": 11,
   "metadata": {},
   "outputs": [
    {
     "data": {
      "text/plain": [
       "Index(['transactionid', 'visitorid', 'date', 'revenue', 'group'], dtype='object')"
      ]
     },
     "execution_count": 11,
     "metadata": {},
     "output_type": "execute_result"
    }
   ],
   "source": [
    "orders.columns"
   ]
  },
  {
   "cell_type": "code",
   "execution_count": 12,
   "metadata": {},
   "outputs": [
    {
     "data": {
      "text/html": [
       "<div>\n",
       "<style scoped>\n",
       "    .dataframe tbody tr th:only-of-type {\n",
       "        vertical-align: middle;\n",
       "    }\n",
       "\n",
       "    .dataframe tbody tr th {\n",
       "        vertical-align: top;\n",
       "    }\n",
       "\n",
       "    .dataframe thead th {\n",
       "        text-align: right;\n",
       "    }\n",
       "</style>\n",
       "<table border=\"1\" class=\"dataframe\">\n",
       "  <thead>\n",
       "    <tr style=\"text-align: right;\">\n",
       "      <th></th>\n",
       "      <th>transactionid</th>\n",
       "      <th>visitorid</th>\n",
       "      <th>date</th>\n",
       "      <th>revenue</th>\n",
       "      <th>group</th>\n",
       "    </tr>\n",
       "  </thead>\n",
       "  <tbody>\n",
       "    <tr>\n",
       "      <th>0</th>\n",
       "      <td>3667963787</td>\n",
       "      <td>3312258926</td>\n",
       "      <td>2019-08-15</td>\n",
       "      <td>1650</td>\n",
       "      <td>B</td>\n",
       "    </tr>\n",
       "    <tr>\n",
       "      <th>1</th>\n",
       "      <td>2804400009</td>\n",
       "      <td>3642806036</td>\n",
       "      <td>2019-08-15</td>\n",
       "      <td>730</td>\n",
       "      <td>B</td>\n",
       "    </tr>\n",
       "    <tr>\n",
       "      <th>2</th>\n",
       "      <td>2961555356</td>\n",
       "      <td>4069496402</td>\n",
       "      <td>2019-08-15</td>\n",
       "      <td>400</td>\n",
       "      <td>A</td>\n",
       "    </tr>\n",
       "    <tr>\n",
       "      <th>3</th>\n",
       "      <td>3797467345</td>\n",
       "      <td>1196621759</td>\n",
       "      <td>2019-08-15</td>\n",
       "      <td>9759</td>\n",
       "      <td>B</td>\n",
       "    </tr>\n",
       "    <tr>\n",
       "      <th>4</th>\n",
       "      <td>2282983706</td>\n",
       "      <td>2322279887</td>\n",
       "      <td>2019-08-15</td>\n",
       "      <td>2308</td>\n",
       "      <td>B</td>\n",
       "    </tr>\n",
       "  </tbody>\n",
       "</table>\n",
       "</div>"
      ],
      "text/plain": [
       "   transactionid   visitorid        date  revenue group\n",
       "0     3667963787  3312258926  2019-08-15     1650     B\n",
       "1     2804400009  3642806036  2019-08-15      730     B\n",
       "2     2961555356  4069496402  2019-08-15      400     A\n",
       "3     3797467345  1196621759  2019-08-15     9759     B\n",
       "4     2282983706  2322279887  2019-08-15     2308     B"
      ]
     },
     "metadata": {},
     "output_type": "display_data"
    }
   ],
   "source": [
    "display(orders.head(5));"
   ]
  },
  {
   "cell_type": "markdown",
   "metadata": {},
   "source": [
    "Проверяю типы данных и наличие пропусков:"
   ]
  },
  {
   "cell_type": "code",
   "execution_count": 13,
   "metadata": {},
   "outputs": [
    {
     "name": "stdout",
     "output_type": "stream",
     "text": [
      "<class 'pandas.core.frame.DataFrame'>\n",
      "RangeIndex: 1197 entries, 0 to 1196\n",
      "Data columns (total 5 columns):\n",
      " #   Column         Non-Null Count  Dtype \n",
      "---  ------         --------------  ----- \n",
      " 0   transactionid  1197 non-null   int64 \n",
      " 1   visitorid      1197 non-null   int64 \n",
      " 2   date           1197 non-null   object\n",
      " 3   revenue        1197 non-null   int64 \n",
      " 4   group          1197 non-null   object\n",
      "dtypes: int64(3), object(2)\n",
      "memory usage: 46.9+ KB\n"
     ]
    }
   ],
   "source": [
    "orders.info();"
   ]
  },
  {
   "cell_type": "code",
   "execution_count": 14,
   "metadata": {},
   "outputs": [
    {
     "data": {
      "text/plain": [
       "(1197, 5)"
      ]
     },
     "execution_count": 14,
     "metadata": {},
     "output_type": "execute_result"
    }
   ],
   "source": [
    "orders.shape"
   ]
  },
  {
   "cell_type": "markdown",
   "metadata": {},
   "source": [
    "Изменим тип данных в столбце date:"
   ]
  },
  {
   "cell_type": "code",
   "execution_count": 15,
   "metadata": {},
   "outputs": [],
   "source": [
    "orders['date'] = pd.to_datetime(orders['date'])"
   ]
  },
  {
   "cell_type": "code",
   "execution_count": 16,
   "metadata": {},
   "outputs": [
    {
     "name": "stdout",
     "output_type": "stream",
     "text": [
      "<class 'pandas.core.frame.DataFrame'>\n",
      "RangeIndex: 1197 entries, 0 to 1196\n",
      "Data columns (total 5 columns):\n",
      " #   Column         Non-Null Count  Dtype         \n",
      "---  ------         --------------  -----         \n",
      " 0   transactionid  1197 non-null   int64         \n",
      " 1   visitorid      1197 non-null   int64         \n",
      " 2   date           1197 non-null   datetime64[ns]\n",
      " 3   revenue        1197 non-null   int64         \n",
      " 4   group          1197 non-null   object        \n",
      "dtypes: datetime64[ns](1), int64(3), object(1)\n",
      "memory usage: 46.9+ KB\n"
     ]
    }
   ],
   "source": [
    "orders.info();"
   ]
  },
  {
   "cell_type": "markdown",
   "metadata": {},
   "source": [
    "Проверяю данные на наличие пропусков в каждом отдельном столбце \"orders\":"
   ]
  },
  {
   "cell_type": "code",
   "execution_count": 17,
   "metadata": {},
   "outputs": [
    {
     "data": {
      "text/plain": [
       "transactionid    0\n",
       "visitorid        0\n",
       "date             0\n",
       "revenue          0\n",
       "group            0\n",
       "dtype: int64"
      ]
     },
     "execution_count": 17,
     "metadata": {},
     "output_type": "execute_result"
    }
   ],
   "source": [
    "orders.isna().sum()"
   ]
  },
  {
   "cell_type": "markdown",
   "metadata": {},
   "source": [
    "Пропусков в orders не обнаружено."
   ]
  },
  {
   "cell_type": "markdown",
   "metadata": {},
   "source": [
    "Проверяю \"orders\" на наличие явных дубликатов:"
   ]
  },
  {
   "cell_type": "code",
   "execution_count": 18,
   "metadata": {},
   "outputs": [
    {
     "data": {
      "text/plain": [
       "0"
      ]
     },
     "execution_count": 18,
     "metadata": {},
     "output_type": "execute_result"
    }
   ],
   "source": [
    "orders.duplicated().sum()"
   ]
  },
  {
   "cell_type": "markdown",
   "metadata": {},
   "source": [
    "Дубликатов в orders не обнаружено."
   ]
  },
  {
   "cell_type": "markdown",
   "metadata": {},
   "source": [
    "Проверим датафрейм visitors:"
   ]
  },
  {
   "cell_type": "code",
   "execution_count": 19,
   "metadata": {},
   "outputs": [
    {
     "data": {
      "text/html": [
       "<div>\n",
       "<style scoped>\n",
       "    .dataframe tbody tr th:only-of-type {\n",
       "        vertical-align: middle;\n",
       "    }\n",
       "\n",
       "    .dataframe tbody tr th {\n",
       "        vertical-align: top;\n",
       "    }\n",
       "\n",
       "    .dataframe thead th {\n",
       "        text-align: right;\n",
       "    }\n",
       "</style>\n",
       "<table border=\"1\" class=\"dataframe\">\n",
       "  <thead>\n",
       "    <tr style=\"text-align: right;\">\n",
       "      <th></th>\n",
       "      <th>date</th>\n",
       "      <th>group</th>\n",
       "      <th>visitors</th>\n",
       "    </tr>\n",
       "  </thead>\n",
       "  <tbody>\n",
       "    <tr>\n",
       "      <th>0</th>\n",
       "      <td>2019-08-01</td>\n",
       "      <td>A</td>\n",
       "      <td>719</td>\n",
       "    </tr>\n",
       "    <tr>\n",
       "      <th>1</th>\n",
       "      <td>2019-08-02</td>\n",
       "      <td>A</td>\n",
       "      <td>619</td>\n",
       "    </tr>\n",
       "    <tr>\n",
       "      <th>2</th>\n",
       "      <td>2019-08-03</td>\n",
       "      <td>A</td>\n",
       "      <td>507</td>\n",
       "    </tr>\n",
       "    <tr>\n",
       "      <th>3</th>\n",
       "      <td>2019-08-04</td>\n",
       "      <td>A</td>\n",
       "      <td>717</td>\n",
       "    </tr>\n",
       "    <tr>\n",
       "      <th>4</th>\n",
       "      <td>2019-08-05</td>\n",
       "      <td>A</td>\n",
       "      <td>756</td>\n",
       "    </tr>\n",
       "  </tbody>\n",
       "</table>\n",
       "</div>"
      ],
      "text/plain": [
       "         date group  visitors\n",
       "0  2019-08-01     A       719\n",
       "1  2019-08-02     A       619\n",
       "2  2019-08-03     A       507\n",
       "3  2019-08-04     A       717\n",
       "4  2019-08-05     A       756"
      ]
     },
     "metadata": {},
     "output_type": "display_data"
    }
   ],
   "source": [
    "display(visitors.head(5));"
   ]
  },
  {
   "cell_type": "code",
   "execution_count": 20,
   "metadata": {},
   "outputs": [
    {
     "name": "stdout",
     "output_type": "stream",
     "text": [
      "<class 'pandas.core.frame.DataFrame'>\n",
      "RangeIndex: 62 entries, 0 to 61\n",
      "Data columns (total 3 columns):\n",
      " #   Column    Non-Null Count  Dtype \n",
      "---  ------    --------------  ----- \n",
      " 0   date      62 non-null     object\n",
      " 1   group     62 non-null     object\n",
      " 2   visitors  62 non-null     int64 \n",
      "dtypes: int64(1), object(2)\n",
      "memory usage: 1.6+ KB\n"
     ]
    }
   ],
   "source": [
    "visitors.info();"
   ]
  },
  {
   "cell_type": "markdown",
   "metadata": {},
   "source": [
    "Изменим тип данных в столбце date:"
   ]
  },
  {
   "cell_type": "code",
   "execution_count": 21,
   "metadata": {},
   "outputs": [],
   "source": [
    "visitors['date'] = pd.to_datetime(visitors['date'])"
   ]
  },
  {
   "cell_type": "code",
   "execution_count": 22,
   "metadata": {},
   "outputs": [
    {
     "name": "stdout",
     "output_type": "stream",
     "text": [
      "<class 'pandas.core.frame.DataFrame'>\n",
      "RangeIndex: 62 entries, 0 to 61\n",
      "Data columns (total 3 columns):\n",
      " #   Column    Non-Null Count  Dtype         \n",
      "---  ------    --------------  -----         \n",
      " 0   date      62 non-null     datetime64[ns]\n",
      " 1   group     62 non-null     object        \n",
      " 2   visitors  62 non-null     int64         \n",
      "dtypes: datetime64[ns](1), int64(1), object(1)\n",
      "memory usage: 1.6+ KB\n"
     ]
    }
   ],
   "source": [
    "visitors.info();"
   ]
  },
  {
   "cell_type": "code",
   "execution_count": 23,
   "metadata": {},
   "outputs": [
    {
     "data": {
      "text/plain": [
       "(62, 3)"
      ]
     },
     "execution_count": 23,
     "metadata": {},
     "output_type": "execute_result"
    }
   ],
   "source": [
    "visitors.shape"
   ]
  },
  {
   "cell_type": "markdown",
   "metadata": {},
   "source": [
    "Проверяю данные на наличие пропусков в каждом отдельном столбце \"visitors\":"
   ]
  },
  {
   "cell_type": "code",
   "execution_count": 24,
   "metadata": {},
   "outputs": [
    {
     "data": {
      "text/plain": [
       "date        0\n",
       "group       0\n",
       "visitors    0\n",
       "dtype: int64"
      ]
     },
     "execution_count": 24,
     "metadata": {},
     "output_type": "execute_result"
    }
   ],
   "source": [
    "visitors.isna().sum()"
   ]
  },
  {
   "cell_type": "markdown",
   "metadata": {},
   "source": [
    "Пропусков в visitors не обнаружено."
   ]
  },
  {
   "cell_type": "markdown",
   "metadata": {},
   "source": [
    "Проверяю \"visitors\" на наличие явных дубликатов:"
   ]
  },
  {
   "cell_type": "code",
   "execution_count": 25,
   "metadata": {},
   "outputs": [
    {
     "data": {
      "text/plain": [
       "0"
      ]
     },
     "execution_count": 25,
     "metadata": {},
     "output_type": "execute_result"
    }
   ],
   "source": [
    "visitors.duplicated().sum()"
   ]
  },
  {
   "cell_type": "markdown",
   "metadata": {},
   "source": [
    "Дубликатов в orders не обнаружено."
   ]
  },
  {
   "cell_type": "markdown",
   "metadata": {},
   "source": [
    "Проверку на наличие неявных дубликатов проводить не требуется."
   ]
  },
  {
   "cell_type": "code",
   "execution_count": 26,
   "metadata": {
    "scrolled": true
   },
   "outputs": [
    {
     "data": {
      "text/html": [
       "<div>\n",
       "<style scoped>\n",
       "    .dataframe tbody tr th:only-of-type {\n",
       "        vertical-align: middle;\n",
       "    }\n",
       "\n",
       "    .dataframe tbody tr th {\n",
       "        vertical-align: top;\n",
       "    }\n",
       "\n",
       "    .dataframe thead th {\n",
       "        text-align: right;\n",
       "    }\n",
       "</style>\n",
       "<table border=\"1\" class=\"dataframe\">\n",
       "  <thead>\n",
       "    <tr style=\"text-align: right;\">\n",
       "      <th></th>\n",
       "      <th>transactionid</th>\n",
       "      <th>visitorid</th>\n",
       "      <th>date</th>\n",
       "      <th>revenue</th>\n",
       "      <th>group</th>\n",
       "    </tr>\n",
       "  </thead>\n",
       "  <tbody>\n",
       "    <tr>\n",
       "      <th>0</th>\n",
       "      <td>3667963787</td>\n",
       "      <td>3312258926</td>\n",
       "      <td>2019-08-15</td>\n",
       "      <td>1650</td>\n",
       "      <td>B</td>\n",
       "    </tr>\n",
       "    <tr>\n",
       "      <th>1</th>\n",
       "      <td>2804400009</td>\n",
       "      <td>3642806036</td>\n",
       "      <td>2019-08-15</td>\n",
       "      <td>730</td>\n",
       "      <td>B</td>\n",
       "    </tr>\n",
       "    <tr>\n",
       "      <th>2</th>\n",
       "      <td>2961555356</td>\n",
       "      <td>4069496402</td>\n",
       "      <td>2019-08-15</td>\n",
       "      <td>400</td>\n",
       "      <td>A</td>\n",
       "    </tr>\n",
       "    <tr>\n",
       "      <th>3</th>\n",
       "      <td>3797467345</td>\n",
       "      <td>1196621759</td>\n",
       "      <td>2019-08-15</td>\n",
       "      <td>9759</td>\n",
       "      <td>B</td>\n",
       "    </tr>\n",
       "    <tr>\n",
       "      <th>4</th>\n",
       "      <td>2282983706</td>\n",
       "      <td>2322279887</td>\n",
       "      <td>2019-08-15</td>\n",
       "      <td>2308</td>\n",
       "      <td>B</td>\n",
       "    </tr>\n",
       "  </tbody>\n",
       "</table>\n",
       "</div>"
      ],
      "text/plain": [
       "   transactionid   visitorid       date  revenue group\n",
       "0     3667963787  3312258926 2019-08-15     1650     B\n",
       "1     2804400009  3642806036 2019-08-15      730     B\n",
       "2     2961555356  4069496402 2019-08-15      400     A\n",
       "3     3797467345  1196621759 2019-08-15     9759     B\n",
       "4     2282983706  2322279887 2019-08-15     2308     B"
      ]
     },
     "metadata": {},
     "output_type": "display_data"
    }
   ],
   "source": [
    "display(orders.head(5));"
   ]
  },
  {
   "cell_type": "code",
   "execution_count": 27,
   "metadata": {},
   "outputs": [
    {
     "data": {
      "text/html": [
       "<div>\n",
       "<style scoped>\n",
       "    .dataframe tbody tr th:only-of-type {\n",
       "        vertical-align: middle;\n",
       "    }\n",
       "\n",
       "    .dataframe tbody tr th {\n",
       "        vertical-align: top;\n",
       "    }\n",
       "\n",
       "    .dataframe thead th {\n",
       "        text-align: right;\n",
       "    }\n",
       "</style>\n",
       "<table border=\"1\" class=\"dataframe\">\n",
       "  <thead>\n",
       "    <tr style=\"text-align: right;\">\n",
       "      <th></th>\n",
       "      <th>date</th>\n",
       "      <th>group</th>\n",
       "      <th>visitors</th>\n",
       "    </tr>\n",
       "  </thead>\n",
       "  <tbody>\n",
       "    <tr>\n",
       "      <th>0</th>\n",
       "      <td>2019-08-01</td>\n",
       "      <td>A</td>\n",
       "      <td>719</td>\n",
       "    </tr>\n",
       "    <tr>\n",
       "      <th>1</th>\n",
       "      <td>2019-08-02</td>\n",
       "      <td>A</td>\n",
       "      <td>619</td>\n",
       "    </tr>\n",
       "    <tr>\n",
       "      <th>2</th>\n",
       "      <td>2019-08-03</td>\n",
       "      <td>A</td>\n",
       "      <td>507</td>\n",
       "    </tr>\n",
       "    <tr>\n",
       "      <th>3</th>\n",
       "      <td>2019-08-04</td>\n",
       "      <td>A</td>\n",
       "      <td>717</td>\n",
       "    </tr>\n",
       "    <tr>\n",
       "      <th>4</th>\n",
       "      <td>2019-08-05</td>\n",
       "      <td>A</td>\n",
       "      <td>756</td>\n",
       "    </tr>\n",
       "  </tbody>\n",
       "</table>\n",
       "</div>"
      ],
      "text/plain": [
       "        date group  visitors\n",
       "0 2019-08-01     A       719\n",
       "1 2019-08-02     A       619\n",
       "2 2019-08-03     A       507\n",
       "3 2019-08-04     A       717\n",
       "4 2019-08-05     A       756"
      ]
     },
     "metadata": {},
     "output_type": "display_data"
    }
   ],
   "source": [
    "display(visitors.head(5));"
   ]
  },
  {
   "cell_type": "markdown",
   "metadata": {},
   "source": [
    "* Проверим размеры групп в выборке, есть ли разница между ними.\n",
    "* Проверим, корректно ли был рассчитан размер выборки для проведения теста."
   ]
  },
  {
   "cell_type": "code",
   "execution_count": 28,
   "metadata": {},
   "outputs": [
    {
     "name": "stdout",
     "output_type": "stream",
     "text": [
      "Кол-во посетителей в группе А: 18736\n",
      "Кол-во посетителей в группе B: 18916\n",
      "Кол-во покупок в группе A: 557\n",
      "Кол-во покупок в группе B: 640\n"
     ]
    },
    {
     "data": {
      "image/png": "[encoded data removed]",
      "text/plain": [
       "<Figure size 1440x360 with 1 Axes>"
      ]
     },
     "metadata": {
      "needs_background": "light"
     },
     "output_type": "display_data"
    },
    {
     "name": "stdout",
     "output_type": "stream",
     "text": [
      "P-value: 0.7301376549390499 \n",
      "Разница в количестве посетителей в группах A и B статистически НЕ значима.\n",
      "\n",
      "Начальная конверсия: 0.030\n",
      "Полученная после изменений конверсия: 0.034\n",
      "Относительное изменение конверсии после изменений: 0.121\n",
      "\n",
      "Вводим начальную конверсию и полученное относительное изменение конверсии в калькулятор.\n",
      "Сайт калькулятора: https://www.evanmiller.org/ab-testing/sample-size.html\n",
      "Получаем необходимое количество выборки 35269 для корректного проведения тестирования\n",
      "В нашем случае количество 37652 посещений.\n",
      "Размер выборки для A/B тестирования подобран корректно, статистически значимой разницы\n",
      "в количестве посещений ммежду группами не обнаружено.\n",
      "\n",
      "\n"
     ]
    }
   ],
   "source": [
    "print('Кол-во посетителей в группе А: {}\\n'\n",
    "      'Кол-во посетителей в группе B: {}'.format(visitors[visitors['group']=='A']['visitors'].sum(), \n",
    "                                                 visitors[visitors['group']=='B']['visitors'].sum()))\n",
    "purchasesA = len(orders[orders['group']=='A'])\n",
    "purchasesB = len(orders[orders['group']=='B'])\n",
    "\n",
    "print('Кол-во покупок в группе A: {}'.format(purchasesA))\n",
    "print('Кол-во покупок в группе B: {}'.format(purchasesB))\n",
    "\n",
    "plt.figure(figsize = (20, 5))\n",
    "\n",
    "plt.hist(visitors[visitors['group']=='A']['visitors'], alpha = 0.8, label='A', bins = 30)\n",
    "plt.hist(visitors[visitors['group']=='B']['visitors'], alpha = 0.8, label='B', bins = 30)\n",
    "plt.legend()\n",
    "plt.title('Гистограммы кол-ва посетителей в день по группам A и B')\n",
    "plt.show()\n",
    "results = stats.mannwhitneyu(visitors[visitors['group']=='A']['visitors'], visitors[visitors['group']=='B']['visitors'])\n",
    "alpha = 0.05\n",
    "\n",
    "print('P-value: {} '.format(results.pvalue))\n",
    "if results.pvalue < alpha:\n",
    "    print('Разница в количестве посетителей в группах A и B статистически значима\\n')\n",
    "else:\n",
    "    print('Разница в количестве посетителей в группах A и B статистически НЕ значима.\\n')\n",
    "\n",
    "initial_conversion = len(orders[orders['group']=='A']) / visitors[visitors['group']=='A']['visitors'].sum() \n",
    "resulting_conversion = len(orders[orders['group']=='B']) / visitors[visitors['group']=='B']['visitors'].sum()\n",
    "\n",
    "print('Начальная конверсия: {:.3f}'.format(initial_conversion))\n",
    "print('Полученная после изменений конверсия: {:.3f}'.format(resulting_conversion))\n",
    "print('Относительное изменение конверсии после изменений: {:.3f}'.format(abs(1-(initial_conversion/resulting_conversion))))\n",
    "print('\\nВводим начальную конверсию и полученное относительное изменение конверсии в калькулятор.\\n'\n",
    "     'Сайт калькулятора: https://www.evanmiller.org/ab-testing/sample-size.html\\n'\n",
    "     'Получаем необходимое количество выборки 35269 для корректного проведения тестирования\\n'\n",
    "     'В нашем случае количество {} посещений.\\n'\n",
    "      'Размер выборки для A/B тестирования подобран корректно, ' \n",
    "      'статистически значимой разницы\\nв количестве посещений ммежду группами не обнаружено.\\n\\n'.format(visitors['visitors'].sum()))"
   ]
  },
  {
   "cell_type": "markdown",
   "metadata": {},
   "source": [
    "Рассчитаем даты начала и окончания теста:"
   ]
  },
  {
   "cell_type": "code",
   "execution_count": 29,
   "metadata": {},
   "outputs": [
    {
     "name": "stdout",
     "output_type": "stream",
     "text": [
      "\n",
      "Начальная дата 2019-08-01 00:00:00, конечная дата 2019-08-31 00:00:00\n",
      "\n"
     ]
    }
   ],
   "source": [
    "print('\\nНачальная дата {}, конечная дата {}\\n'.format(visitors['date'].min(), visitors['date'].max()))"
   ]
  },
  {
   "cell_type": "markdown",
   "metadata": {},
   "source": [
    "Посмотрим сколько групп в A/B тесте:"
   ]
  },
  {
   "cell_type": "code",
   "execution_count": 30,
   "metadata": {},
   "outputs": [
    {
     "data": {
      "text/plain": [
       "array(['B', 'A'], dtype=object)"
      ]
     },
     "metadata": {},
     "output_type": "display_data"
    }
   ],
   "source": [
    "display(orders['group'].unique());"
   ]
  },
  {
   "cell_type": "code",
   "execution_count": 31,
   "metadata": {},
   "outputs": [
    {
     "data": {
      "text/plain": [
       "array(['A', 'B'], dtype=object)"
      ]
     },
     "metadata": {},
     "output_type": "display_data"
    }
   ],
   "source": [
    "display(visitors['group'].unique());"
   ]
  },
  {
   "cell_type": "markdown",
   "metadata": {},
   "source": [
    "В А/В тесте 2 группы."
   ]
  },
  {
   "cell_type": "code",
   "execution_count": 32,
   "metadata": {},
   "outputs": [
    {
     "data": {
      "text/plain": [
       "array(['B', 'A'], dtype=object)"
      ]
     },
     "metadata": {},
     "output_type": "display_data"
    }
   ],
   "source": [
    "display(orders['group'].unique());"
   ]
  },
  {
   "cell_type": "markdown",
   "metadata": {},
   "source": [
    "Рассмотрим количество пользователей в каждой группе по таблице с заказами:"
   ]
  },
  {
   "cell_type": "code",
   "execution_count": 33,
   "metadata": {},
   "outputs": [
    {
     "data": {
      "text/html": [
       "<div>\n",
       "<style scoped>\n",
       "    .dataframe tbody tr th:only-of-type {\n",
       "        vertical-align: middle;\n",
       "    }\n",
       "\n",
       "    .dataframe tbody tr th {\n",
       "        vertical-align: top;\n",
       "    }\n",
       "\n",
       "    .dataframe thead th {\n",
       "        text-align: right;\n",
       "    }\n",
       "</style>\n",
       "<table border=\"1\" class=\"dataframe\">\n",
       "  <thead>\n",
       "    <tr style=\"text-align: right;\">\n",
       "      <th></th>\n",
       "      <th>visitorid</th>\n",
       "    </tr>\n",
       "    <tr>\n",
       "      <th>group</th>\n",
       "      <th></th>\n",
       "    </tr>\n",
       "  </thead>\n",
       "  <tbody>\n",
       "    <tr>\n",
       "      <th>A</th>\n",
       "      <td>503</td>\n",
       "    </tr>\n",
       "    <tr>\n",
       "      <th>B</th>\n",
       "      <td>586</td>\n",
       "    </tr>\n",
       "  </tbody>\n",
       "</table>\n",
       "</div>"
      ],
      "text/plain": [
       "       visitorid\n",
       "group           \n",
       "A            503\n",
       "B            586"
      ]
     },
     "execution_count": 33,
     "metadata": {},
     "output_type": "execute_result"
    }
   ],
   "source": [
    "orders.groupby('group').agg({'visitorid': 'nunique'})"
   ]
  },
  {
   "cell_type": "markdown",
   "metadata": {},
   "source": [
    "Разница между группами легко объясняется воздействием на группу В - возможно, причина просто в лучшей конверсии. Если бы это разница была значительной - например, многократной - это было бы признаком проблем. Но в данном случае разница между покупателями не сигнализирует об ошибках в сборе данных."
   ]
  },
  {
   "cell_type": "markdown",
   "metadata": {},
   "source": [
    "**Анализирую A/B-тест:**"
   ]
  },
  {
   "cell_type": "markdown",
   "metadata": {},
   "source": [
    "**1. Строю график кумулятивной выручки по группам. Делаю выводы и предположения:**"
   ]
  },
  {
   "cell_type": "markdown",
   "metadata": {},
   "source": [
    "1) Создаю датафрейм datesGroups с уникальными парами значений 'date' и 'group', таблицы orders. Избавляюсь от дубликатов методом drop_duplicates().\n",
    "\n",
    "2) Объявляю переменную ordersAggregated, содержащую:\n",
    "\n",
    "дату;\n",
    "группу A/B-теста;\n",
    "число уникальных заказов в группе теста по указанную дату включительно;\n",
    "число уникальных пользователей, совершивших хотя бы 1 заказ в группе теста по указанную дату включительно;\n",
    "суммарную выручку заказов в группе теста по указанную дату включительно.\n",
    "\n",
    "3) Объявляю переменную visitorsAggregated, содержащую:\n",
    "\n",
    "дату;\n",
    "группу A/B-теста;\n",
    "количество уникальных посетителей в группе теста по указанную дату включительно.\n",
    "\n",
    "4) ordersAggregated и visitorsAggregated сортирую по столбцам 'date', 'group' в указанном порядке.\n",
    "\n",
    "5) Определяю переменную cumulativeData, объединив ordersAggregated и visitorsAggregated по колонкам 'date', 'group' методом merge()\n",
    "\n",
    "6) Присваиваю столбцам cumulativeData названия ['date', 'group', 'orders', 'buyers', 'revenue', 'visitors']\n",
    "\n",
    "7) Вывожу первые 5 строк переменной cumulativeData"
   ]
  },
  {
   "cell_type": "code",
   "execution_count": 34,
   "metadata": {},
   "outputs": [
    {
     "name": "stdout",
     "output_type": "stream",
     "text": [
      "\n",
      "Полученная таблица с кумулятивными (накопленными) значениями по дате и группам:\n",
      "- Количество покупок \n",
      "- Количество покупателей \n",
      "- Выручка \n",
      "- Количество посетителей\n",
      "        date group  orders  buyers  revenue  visitors\n",
      "0 2019-08-01     A      24      20   148579       719\n",
      "1 2019-08-01     B      21      20   101217       713\n",
      "2 2019-08-02     A      44      38   242401      1338\n",
      "3 2019-08-02     B      45      43   266748      1294\n",
      "4 2019-08-03     A      68      62   354874      1845\n"
     ]
    }
   ],
   "source": [
    "datesGroups = orders[['date','group']].drop_duplicates()\n",
    "\n",
    "ordersAggregated = datesGroups.apply(lambda x: orders[np.logical_and(orders['date'] <= x['date'], orders['group'] == x['group'])].agg({'date' : 'max', 'group' : 'max', 'transactionid' : 'nunique', 'visitorid' : 'nunique', 'revenue' : 'sum'}), axis=1).sort_values(by=['date','group'])\n",
    "\n",
    "\n",
    "visitorsAggregated = datesGroups.apply(lambda x: visitors[np.logical_and(visitors['date'] <= x['date'], visitors['group'] == x['group'])].agg({'date' : 'max', 'group' : 'max', 'visitors' : 'sum'}), axis=1).sort_values(by=['date','group'])\n",
    "\n",
    "cumulativeData = ordersAggregated.merge(visitorsAggregated, left_on=['date', 'group'], right_on=['date', 'group'])\n",
    "cumulativeData.columns = ['date', 'group', 'orders', 'buyers', 'revenue', 'visitors']\n",
    "\n",
    "print('\\nПолученная таблица с кумулятивными (накопленными) значениями по дате и группам:'\n",
    "'\\n- Количество покупок \\n- Количество покупателей \\n- Выручка \\n- Количество посетителей')\n",
    "\n",
    "print(cumulativeData.head(5))\n"
   ]
  },
  {
   "cell_type": "code",
   "execution_count": 35,
   "metadata": {},
   "outputs": [
    {
     "name": "stdout",
     "output_type": "stream",
     "text": [
      "\n",
      "Начальная дата 2019-08-01 00:00:00, конечная дата 2019-08-31 00:00:00\n",
      "\n",
      "\n",
      "Начальная дата 2019-08-01 00:00:00, конечная дата 2019-08-31 00:00:00\n",
      "\n"
     ]
    }
   ],
   "source": [
    "print('\\nНачальная дата {}, конечная дата {}\\n'.format(visitors['date'].min(), visitors['date'].max()))\n",
    "\n",
    "print('\\nНачальная дата {}, конечная дата {}\\n'.format(cumulativeData['date'].min(), cumulativeData['date'].max()))"
   ]
  },
  {
   "cell_type": "markdown",
   "metadata": {},
   "source": [
    "Минимальная и максимальная даты в датафреймах visitors и cumulativeData совпадают - датафрейм cumulativeData создан корректно."
   ]
  },
  {
   "cell_type": "markdown",
   "metadata": {},
   "source": [
    "**Объявим переменные cumulativeRevenueA и cumulativeRevenueB, в которых сохраним данные о датах, выручке и числе заказов в группах A и B.\n",
    "Построим графики кумулятивной выручки по дням по группам.**"
   ]
  },
  {
   "cell_type": "code",
   "execution_count": 36,
   "metadata": {},
   "outputs": [
    {
     "data": {
      "image/png": "[encoded data removed]",
      "text/plain": [
       "<Figure size 1440x360 with 1 Axes>"
      ]
     },
     "metadata": {
      "needs_background": "light"
     },
     "output_type": "display_data"
    }
   ],
   "source": [
    "from pandas.plotting import register_matplotlib_converters\n",
    "import warnings\n",
    "\n",
    "plt.figure(figsize = (20, 5))\n",
    "\n",
    "# конвертеры, которые позволяют использовать типы pandas в matplotlib  \n",
    "register_matplotlib_converters()\n",
    "\n",
    "# датафрейм с кумулятивным количеством заказов и кумулятивной выручкой по дням в группе А\n",
    "cumulativeRevenueA = cumulativeData[cumulativeData['group']=='A'][['date','revenue', 'orders']]\n",
    "\n",
    "# датафрейм с кумулятивным количеством заказов и кумулятивной выручкой по дням в группе B\n",
    "cumulativeRevenueB = cumulativeData[cumulativeData['group']=='B'][['date','revenue', 'orders']]\n",
    "\n",
    "\n",
    "\n",
    "# Строим график выручки группы А\n",
    "plt.plot(cumulativeRevenueA['date'], cumulativeRevenueA['revenue'], label='A')\n",
    "\n",
    "# Строим график выручки группы B\n",
    "plt.plot(cumulativeRevenueB['date'], cumulativeRevenueB['revenue'], label='B')\n",
    "\n",
    "plt.ylabel('Выручка')\n",
    "plt.xlabel('Дата')\n",
    "plt.title('Графики кумулятивной выручки по группам A/B')\n",
    "\n",
    "plt.legend();"
   ]
  },
  {
   "cell_type": "markdown",
   "metadata": {},
   "source": [
    "Группа B показывает выручку большую чем группа A, на протяжении всего теста.\n",
    "\n",
    "После 17.08.2019 на графике группы В виден резкий скачок, который может быть связан с:\n",
    "\n",
    "* Наличием выброса.\n",
    "* Резким повышением конверсии.\n",
    "* Резким повышением среднего чека."
   ]
  },
  {
   "cell_type": "markdown",
   "metadata": {},
   "source": [
    "**2. Строю график кумулятивного среднего чека по группам. Делаю выводы и предположения:**"
   ]
  },
  {
   "cell_type": "code",
   "execution_count": 37,
   "metadata": {},
   "outputs": [
    {
     "data": {
      "image/png": "[encoded data removed]",
      "text/plain": [
       "<Figure size 1440x360 with 1 Axes>"
      ]
     },
     "metadata": {
      "needs_background": "light"
     },
     "output_type": "display_data"
    }
   ],
   "source": [
    "plt.figure(figsize = (20, 5))\n",
    "\n",
    "cumulativeRevenueA = cumulativeData[cumulativeData['group'] == 'A'][\n",
    "    ['date', 'revenue', 'orders']\n",
    "]\n",
    "cumulativeRevenueB = cumulativeData[cumulativeData['group'] == 'B'][\n",
    "    ['date', 'revenue', 'orders']\n",
    "]\n",
    "\n",
    "plt.plot(cumulativeRevenueA['date'], cumulativeRevenueA['revenue']/cumulativeRevenueA['orders'], label='A')\n",
    "plt.plot(cumulativeRevenueB['date'], cumulativeRevenueB['revenue']/cumulativeRevenueB['orders'], label='B')\n",
    "plt.title('Графики кумулятивного среднего чека по группам A/B')\n",
    "plt.ylabel('Средний чек')\n",
    "plt.xlabel('Дата')\n",
    "plt.legend();"
   ]
  },
  {
   "cell_type": "markdown",
   "metadata": {},
   "source": [
    "Cредний чек в группе B был выше среднего чека в группе А на протяжении всего теста, за исключением двух недолгих периодов. Во второй половине графика заметно резкое повышение стоимости среднего чека в группе В. Возможно это связано с выбросом."
   ]
  },
  {
   "cell_type": "markdown",
   "metadata": {},
   "source": [
    "**3. Строю график относительного изменения кумулятивного среднего чека группы B к группе A. Делаю выводы и предположения:**"
   ]
  },
  {
   "cell_type": "markdown",
   "metadata": {},
   "source": [
    "Объединим таблицы cumulativeRevenueA и cumulativeRevenueB методом merge() так, чтобы она содержала столбцы: ['date', 'revenueA', 'revenueB', 'ordersA', 'ordersB']. Сохраним в переменной mergedCumulativeRevenue. \n",
    "Построим график относительно различия кумулятивного среднего чека группы B к группе A. \n",
    "Добавим пунктирную линию оси X (значение оси Y = 0) методом plt.axhline()."
   ]
  },
  {
   "cell_type": "code",
   "execution_count": 38,
   "metadata": {},
   "outputs": [
    {
     "data": {
      "image/png": "[encoded data removed]",
      "text/plain": [
       "<Figure size 1440x360 with 1 Axes>"
      ]
     },
     "metadata": {
      "needs_background": "light"
     },
     "output_type": "display_data"
    }
   ],
   "source": [
    "plt.figure(figsize = (20, 5))\n",
    "\n",
    "# собираем данные в одном датафрейме\n",
    "mergedCumulativeRevenue = cumulativeRevenueA.merge(cumulativeRevenueB, left_on='date', right_on='date', how='left', suffixes=['A', 'B'])\n",
    "\n",
    "# cтроим отношение средних чеков\n",
    "plt.plot(mergedCumulativeRevenue['date'], (mergedCumulativeRevenue['revenueB']/mergedCumulativeRevenue['ordersB'])/(mergedCumulativeRevenue['revenueA']/mergedCumulativeRevenue['ordersA'])-1)\n",
    "\n",
    "plt.title('График относительного изменения кумулятивного среднего чека группы B к группе A')\n",
    "plt.xlabel('Дата')\n",
    "\n",
    "# добавляем ось X\n",
    "plt.axhline(y=0, color='black', linestyle='--');"
   ]
  },
  {
   "cell_type": "markdown",
   "metadata": {},
   "source": [
    "Колебания слишком резкие - необходимо проверить данные на наличие аномальных пользователей."
   ]
  },
  {
   "cell_type": "markdown",
   "metadata": {},
   "source": [
    "**4. Строю график кумулятивного среднего количества заказов на посетителя по группам. Делаю выводы и предположения.**"
   ]
  },
  {
   "cell_type": "code",
   "execution_count": 39,
   "metadata": {},
   "outputs": [
    {
     "data": {
      "image/png": "[encoded data removed]",
      "text/plain": [
       "<Figure size 1440x360 with 1 Axes>"
      ]
     },
     "metadata": {
      "needs_background": "light"
     },
     "output_type": "display_data"
    }
   ],
   "source": [
    "plt.figure(figsize = (20, 5))\n",
    "cumulativeData['average_order'] = cumulativeData['orders']/cumulativeData['visitors'] \n",
    "cumulativeDataA = cumulativeData[cumulativeData['group']=='A'] \n",
    "cumulativeDataB = cumulativeData[cumulativeData['group']=='B'] \n",
    "plt.plot(cumulativeDataA['date'], cumulativeDataA['average_order'], label='A') \n",
    "plt.plot(cumulativeDataB['date'], cumulativeDataB['average_order'], label='B') \n",
    "plt.title('График кумулятивной конверсии по группам A/B')\n",
    "plt.xlabel('Дата')\n",
    "plt.ylabel('Конверсия')\n",
    "plt.legend();"
   ]
  },
  {
   "cell_type": "markdown",
   "metadata": {},
   "source": [
    "Группа B стабильно показывает большую конверсию чем группа A.\n",
    "\n",
    "В начале первой недели теста группа А показывала более высокую кумулятивную конверсию, чем группа В. После чего кумулятивная конверсия группы В стала выше, чем в группе А и осталась более высокой, чем в группе А до конца теста. \n",
    "\n",
    "В начале первой недели теста в обеих группах виден резкий скачок, а после резкий спад кумулятивной конверсии. \n",
    "\n",
    "С 09.08.2019 и до конца теста на графиках заметны плавный спад кумулятивной конверсии группы В, сохраняющийся до конца теста и плавное повышение кумулятивной конверсии группы А, сохраняющееся до конца теста."
   ]
  },
  {
   "cell_type": "markdown",
   "metadata": {},
   "source": [
    "**5. Строю график относительного изменения кумулятивного среднего количества заказов на посетителя группы B к группе A. Делаю выводы и предположения:**"
   ]
  },
  {
   "cell_type": "code",
   "execution_count": 40,
   "metadata": {},
   "outputs": [
    {
     "data": {
      "image/png": "[encoded data removed]",
      "text/plain": [
       "<Figure size 720x288 with 1 Axes>"
      ]
     },
     "metadata": {
      "needs_background": "light"
     },
     "output_type": "display_data"
    }
   ],
   "source": [
    "mergedCumulativeData = cumulativeDataA.merge(cumulativeDataB, left_on='date', right_on='date', suffixes=['A', 'B'])\n",
    "mergedCumulativeData['conversionA'] =  mergedCumulativeData['ordersA'] / mergedCumulativeData['visitorsA'] \n",
    "mergedCumulativeData['conversionB'] =  mergedCumulativeData['ordersB'] / mergedCumulativeData['visitorsB']\n",
    "plt.figure(figsize=(10,4))\n",
    "plt.plot(mergedCumulativeData['date'], ((mergedCumulativeData['conversionB']/mergedCumulativeData['conversionA'])-1))\n",
    "plt.title('График относительного изменения кумулятивной конверсии группы B к группе A')\n",
    "plt.axhline(y=0, color='black', linestyle='--')\n",
    "plt.axhline(y=0.1, color='grey', linestyle='--')\n",
    "plt.xlabel('Дата')\n",
    "plt.show()"
   ]
  },
  {
   "cell_type": "markdown",
   "metadata": {},
   "source": [
    "Через неделю после начала теста, конверсия в группе В выросла, относительно группы А, примерно на 10% и до конца теста оставалась на этом уровне."
   ]
  },
  {
   "cell_type": "markdown",
   "metadata": {},
   "source": [
    "**Анализ выбросов:**"
   ]
  },
  {
   "cell_type": "code",
   "execution_count": 41,
   "metadata": {},
   "outputs": [
    {
     "data": {
      "image/png": "[encoded data removed]",
      "text/plain": [
       "<Figure size 720x288 with 1 Axes>"
      ]
     },
     "metadata": {
      "needs_background": "light"
     },
     "output_type": "display_data"
    },
    {
     "data": {
      "image/png": "[encoded data removed]",
      "text/plain": [
       "<Figure size 720x288 with 1 Axes>"
      ]
     },
     "metadata": {
      "needs_background": "light"
     },
     "output_type": "display_data"
    }
   ],
   "source": [
    "ordersByUsers = orders.groupby('visitorid', as_index = False).agg({'transactionid':'nunique'}).sort_values(by='transactionid', ascending = False)\n",
    "ordersByUsers.columns = ['visitorid', 'orders']\n",
    "ordersByUsers.head(5)\n",
    "plt.figure(figsize=(10,4))\n",
    "plt.hist(ordersByUsers['orders'], bins = 10)\n",
    "plt.title('Гистрограмма распределения количества заказов на одного пользователя')\n",
    "plt.show()\n",
    "x_values = pd.Series(range(0, len(ordersByUsers)))\n",
    "plt.figure(figsize=(10,4))\n",
    "plt.scatter(x_values, ordersByUsers['orders'])\n",
    "plt.title('Точечная диаграмма числа заказов на одного пользователя')\n",
    "plt.show();"
   ]
  },
  {
   "cell_type": "markdown",
   "metadata": {},
   "source": [
    "Чаще всего пользователи совершают не более 2-х заказов."
   ]
  },
  {
   "cell_type": "markdown",
   "metadata": {},
   "source": [
    "**6. Строю точечный график количества заказов по пользователям. Делаю выводы и предположения:**"
   ]
  },
  {
   "cell_type": "code",
   "execution_count": 42,
   "metadata": {},
   "outputs": [
    {
     "name": "stdout",
     "output_type": "stream",
     "text": [
      "          userid  orders\n",
      "1023  4256040402      11\n",
      "591   2458001652      11\n",
      "569   2378935119       9\n",
      "487   2038680547       8\n",
      "44     199603092       5\n",
      "744   3062433592       5\n",
      "55     237748145       5\n",
      "917   3803269165       5\n",
      "299   1230306981       5\n",
      "897   3717692402       5\n"
     ]
    },
    {
     "data": {
      "image/png": "[encoded data removed]",
      "text/plain": [
       "<Figure size 720x288 with 1 Axes>"
      ]
     },
     "metadata": {
      "needs_background": "light"
     },
     "output_type": "display_data"
    }
   ],
   "source": [
    "ordersByUsers = (\n",
    "    orders.groupby('visitorid', as_index=False)\n",
    "    .agg({'transactionid': 'nunique'})\n",
    ")\n",
    "ordersByUsers.columns = ['userid', 'orders']\n",
    "\n",
    "print(ordersByUsers.sort_values(by='orders', ascending=False).head(10))\n",
    "\n",
    "# серия из чисел от 0 до количества наблюдений в ordersByUsers\n",
    "x_values = pd.Series(range(0, len(ordersByUsers)))\n",
    "\n",
    "plt.figure(figsize=(10,4))\n",
    "\n",
    "plt.scatter(x_values, ordersByUsers['orders']);"
   ]
  },
  {
   "cell_type": "markdown",
   "metadata": {},
   "source": [
    "Обычно пользователи делают не более двух заказов."
   ]
  },
  {
   "cell_type": "markdown",
   "metadata": {},
   "source": [
    "**7. Считаю 95-й и 99-й перцентили количества заказов на пользователя. Выбираю границу для определения аномальных пользователей:**"
   ]
  },
  {
   "cell_type": "code",
   "execution_count": 43,
   "metadata": {},
   "outputs": [
    {
     "name": "stdout",
     "output_type": "stream",
     "text": [
      "[1. 2. 4.]\n"
     ]
    }
   ],
   "source": [
    "print(np.percentile(ordersByUsers['orders'], [90, 95, 99])) # Метод np.percentile('column', [percentile1, percentile2, percentile3]) находит перцентили."
   ]
  },
  {
   "cell_type": "code",
   "execution_count": 44,
   "metadata": {},
   "outputs": [],
   "source": [
    "ord_perc = 4"
   ]
  },
  {
   "cell_type": "markdown",
   "metadata": {},
   "source": [
    "Больше 2-х заказов совершают только 5% пользователей."
   ]
  },
  {
   "cell_type": "markdown",
   "metadata": {},
   "source": [
    "**8. Строю точечный график стоимостей заказов.  Делаю выводы и предположения:**"
   ]
  },
  {
   "cell_type": "code",
   "execution_count": 45,
   "metadata": {},
   "outputs": [
    {
     "data": {
      "image/png": "[encoded data removed]",
      "text/plain": [
       "<Figure size 720x288 with 1 Axes>"
      ]
     },
     "metadata": {
      "needs_background": "light"
     },
     "output_type": "display_data"
    }
   ],
   "source": [
    "plt.figure(figsize=(10,4))\n",
    "\n",
    "x_values = pd.Series(range(0, len(orders['revenue'])))\n",
    "\n",
    "plt.ylim([0, 100000])\n",
    "\n",
    "plt.scatter(x_values, orders['revenue']);"
   ]
  },
  {
   "cell_type": "code",
   "execution_count": 46,
   "metadata": {},
   "outputs": [
    {
     "data": {
      "image/png": "[encoded data removed]",
      "text/plain": [
       "<Figure size 720x288 with 1 Axes>"
      ]
     },
     "metadata": {
      "needs_background": "light"
     },
     "output_type": "display_data"
    },
    {
     "data": {
      "image/png": "[encoded data removed]",
      "text/plain": [
       "<Figure size 720x288 with 1 Axes>"
      ]
     },
     "metadata": {
      "needs_background": "light"
     },
     "output_type": "display_data"
    }
   ],
   "source": [
    "plt.figure(figsize=(10,4))\n",
    "plt.hist(orders['revenue'], range=(0,100000), bins = 100)\n",
    "plt.title('Гистрограмма распределения сумм заказов на одного пользователя')\n",
    "plt.show()\n",
    "x_values = pd.Series(range(0, len(orders)))\n",
    "plt.figure(figsize=(10,4))\n",
    "plt.scatter(x_values, orders['revenue'])\n",
    "plt.title('Точечная диаграмма сумм заказов на одного пользователя')\n",
    "plt.axis([0, 1200, 0, 200000])\n",
    "plt.show()"
   ]
  },
  {
   "cell_type": "markdown",
   "metadata": {},
   "source": [
    "Большая часть пользователей делает покупки суммой не больше 25000-30000."
   ]
  },
  {
   "cell_type": "markdown",
   "metadata": {},
   "source": [
    "**9. Считаю 95-й и 99-й перцентили стоимости заказов. Выбираю границу для определения аномальных заказов:**"
   ]
  },
  {
   "cell_type": "code",
   "execution_count": 47,
   "metadata": {},
   "outputs": [
    {
     "name": "stdout",
     "output_type": "stream",
     "text": [
      "[18168.  28000.  58233.2]\n"
     ]
    }
   ],
   "source": [
    "print(np.percentile(orders['revenue'], [90, 95, 99])) "
   ]
  },
  {
   "cell_type": "code",
   "execution_count": 48,
   "metadata": {},
   "outputs": [],
   "source": [
    "rev_perc = 58233.2"
   ]
  },
  {
   "cell_type": "markdown",
   "metadata": {},
   "source": [
    "Только 5% заказов дороже 28000."
   ]
  },
  {
   "cell_type": "markdown",
   "metadata": {},
   "source": [
    "**Обозначаю выбранные границы аномалий:**"
   ]
  },
  {
   "cell_type": "markdown",
   "metadata": {},
   "source": [
    "Определяю границы аномалий по 99 перцентилю :\n",
    "\n",
    "* 99 перцентиль стоимости заказов равен 58233.2\n",
    "* 99 перцентиль количества заказов на пользователя равен 4"
   ]
  },
  {
   "cell_type": "markdown",
   "metadata": {},
   "source": [
    "**10. Считаю статистическую значимость различий в среднем количестве заказов на посетителя между группами по «сырым» данным. Делаю выводы и предположения:**"
   ]
  },
  {
   "cell_type": "markdown",
   "metadata": {},
   "source": [
    "**Формулирую нулевую и альтернативную гипотезы:**\n",
    "\n",
    "* Нулевая: По неочищенным данным в конверсии групп A и B разница статистически не значима.\n",
    "* Альтернативная: По неочищенным данным в конверсии групп A и B разница статистически значима."
   ]
  },
  {
   "cell_type": "code",
   "execution_count": 49,
   "metadata": {},
   "outputs": [
    {
     "name": "stdout",
     "output_type": "stream",
     "text": [
      "Количество покупателей в группе A: 503\n",
      "Количество покупок в группе А: 557\n",
      "Количество посетителей в группе A: 18736\n",
      "\n",
      "Количество покупателей в группе B: 586\n",
      "Количество покупок в группе B: 640\n",
      "Количество посетителей в группе B: 18916\n",
      "\n",
      "Относительный прирост конверсии группы B по отношению к группе A: 0.138\n",
      "P-value: 0.016792355056752608\n",
      "По неочищенным данным в конверсии групп A и B разница статистически значима.\n"
     ]
    }
   ],
   "source": [
    "ordersByUsersA = orders[orders['group']=='A'].groupby('visitorid', as_index=False).agg({'transactionid':'nunique'})\n",
    "ordersByUsersA.columns = ['visitorId', 'orders']\n",
    "ordersByUsersB = orders[orders['group']=='B'].groupby('visitorid', as_index=False).agg({'transactionid':'nunique'})\n",
    "ordersByUsersB.columns = ['visitorId', 'orders']\n",
    "\n",
    "print('Количество покупателей в группе A: {}'.format(len(ordersByUsersA)))\n",
    "print('Количество покупок в группе А: {}'.format(ordersByUsersA['orders'].sum()))\n",
    "print('Количество посетителей в группе A: {}\\n'.format(visitors[visitors['group']=='A']['visitors'].sum()))\n",
    "print('Количество покупателей в группе B: {}'.format(len(ordersByUsersB)))\n",
    "print('Количество покупок в группе B: {}'.format(ordersByUsersB['orders'].sum()))\n",
    "print('Количество посетителей в группе B: {}'.format(visitors[visitors['group']=='B']['visitors'].sum()))\n",
    "\n",
    "\n",
    "#составим списки кол-ва заказов sampleA и sampleB со всеми пользователями (в том числе и не купившими) по группам \n",
    "list_orders_1 =[]\n",
    "for i in range(0,(visitors[visitors['group']=='A']['visitors'].sum()-len(ordersByUsersA))):\n",
    "    list_orders_1.append(0)\n",
    "orders_by_non_purchased_users_A = pd.Series(data = list_orders_1, name = 'orders')\n",
    "\n",
    "list_orders_2 =[]\n",
    "for i in range(0,(visitors[visitors['group']=='B']['visitors'].sum()-len(ordersByUsersB))):\n",
    "    list_orders_2.append(0)\n",
    "orders_by_non_purchased_users_B = pd.Series(data = list_orders_2, name = 'orders')\n",
    "\n",
    "sampleA = pd.concat([ordersByUsersA['orders'], orders_by_non_purchased_users_A], axis=0)\n",
    "sampleB = pd.concat([ordersByUsersB['orders'], orders_by_non_purchased_users_B], axis=0)\n",
    "print('\\nОтносительный прирост конверсии группы B по отношению к группе A: {:.3f}'.format(sampleB.mean()/sampleA.mean()-1))\n",
    "alpha = 0.05\n",
    "results = stats.mannwhitneyu(sampleA, sampleB)\n",
    "print('P-value: {}'.format(results.pvalue))\n",
    "if results.pvalue < alpha:\n",
    "    print('По неочищенным данным в конверсии групп A и B разница статистически значима.')\n",
    "else:\n",
    "    print('По неочищенным данным различий в конверсии групп A и B НЕТ.')"
   ]
  },
  {
   "cell_type": "markdown",
   "metadata": {},
   "source": [
    "Принимаем альтернативную гипотезу: По неочищенным данным в конверсии групп A и B разница статистически значима."
   ]
  },
  {
   "cell_type": "markdown",
   "metadata": {},
   "source": [
    "**11. Считаю статистическую значимость различий в среднем чеке заказа между группами по «сырым» данным. Делаю выводы и предположения:**"
   ]
  },
  {
   "cell_type": "markdown",
   "metadata": {},
   "source": [
    "**Формулирую нулевую и альтернативную гипотезы:**\n",
    "\n",
    "* Нулевая: Различий в средних чеках в группах A и B нет.\n",
    "* Альтернативная: Различия в средних чеках между группами A и B  есть."
   ]
  },
  {
   "cell_type": "code",
   "execution_count": 50,
   "metadata": {},
   "outputs": [
    {
     "name": "stdout",
     "output_type": "stream",
     "text": [
      "Относительное изменение среднего чека в группе B по отношению группы A: 0.259\n",
      "P-value: 0.7292909855432458\n",
      "По неочищенным данным различий в средних чеках в группах A и B нет.\n"
     ]
    }
   ],
   "source": [
    "print('Относительное изменение среднего чека в группе B по отношению группы A: {:.3f}'.format(\n",
    "orders[orders['group']=='B']['revenue'].mean()/orders[orders['group']=='A']['revenue'].mean()-1))\n",
    "results = stats.mannwhitneyu(orders[orders['group']=='A']['revenue'], orders[orders['group']=='B']['revenue'])\n",
    "print('P-value: {}'.format(results.pvalue))\n",
    "\n",
    "if results.pvalue < alpha:\n",
    "    print('По неочищенным данным разница в средних чеках в группах A и B статистически значима.')\n",
    "else:\n",
    "    print('По неочищенным данным различий в средних чеках в группах A и B нет.')"
   ]
  },
  {
   "cell_type": "markdown",
   "metadata": {},
   "source": [
    "Принимаем нулевую гипотезу: Различий в средних чеках в группах A и B нет."
   ]
  },
  {
   "cell_type": "markdown",
   "metadata": {},
   "source": [
    "**12. Считаю статистическую значимость различий в среднем количестве заказов на посетителя между группами по «очищенным» данным. Делаю выводы и предположения:**"
   ]
  },
  {
   "cell_type": "code",
   "execution_count": 51,
   "metadata": {},
   "outputs": [
    {
     "name": "stdout",
     "output_type": "stream",
     "text": [
      "1099     148427295\n",
      "949      887908475\n",
      "744      888512513\n",
      "1103    1164614297\n",
      "1136    1307669133\n",
      "dtype: int64\n",
      "Количество аномальных пользователей: 15\n"
     ]
    }
   ],
   "source": [
    "usersWithManyOrders = pd.concat(\n",
    "    [\n",
    "        ordersByUsersA[ordersByUsersA['orders'] > ord_perc]['visitorId'],\n",
    "        ordersByUsersB[ordersByUsersB['orders'] > ord_perc]['visitorId'],\n",
    "    ],\n",
    "    axis=0,\n",
    ")\n",
    "usersWithExpensiveOrders = orders[orders['revenue'] > rev_perc]['visitorid']\n",
    "abnormalUsers = (\n",
    "    pd.concat([usersWithManyOrders, usersWithExpensiveOrders], axis=0)\n",
    "    .drop_duplicates()\n",
    "    .sort_values()\n",
    ")\n",
    "print(abnormalUsers.head(5))\n",
    "\n",
    "print('Количество аномальных пользователей: {}'.format(len(abnormalUsers)));"
   ]
  },
  {
   "cell_type": "markdown",
   "metadata": {},
   "source": [
    "**Формулирую нулевую и альтернативную гипотезы:**\n",
    "\n",
    "* Нулевая: По очищенным данным в конверсии групп A и B разница статистически не значима.\n",
    "* Альтернативная: По очищенным данным в конверсии групп A и B разница статистически значима."
   ]
  },
  {
   "cell_type": "code",
   "execution_count": 52,
   "metadata": {},
   "outputs": [
    {
     "name": "stdout",
     "output_type": "stream",
     "text": [
      "\n",
      "Относительный прирост конверсии группы B по отношению к группе A после очистки данных: 0.153\n",
      "P-value: 0.014380135585307981\n",
      "По очищенным данным в конверсии групп A и B разница статистически значима.\n"
     ]
    }
   ],
   "source": [
    "sampleAFiltered = pd.concat([\n",
    "    ordersByUsersA[np.logical_not(ordersByUsersA['visitorId'].isin(abnormalUsers))]['orders'],\n",
    "    orders_by_non_purchased_users_A\n",
    "], axis = 0)\n",
    "sampleBFiltered = pd.concat([\n",
    "    ordersByUsersB[np.logical_not(ordersByUsersB['visitorId'].isin(abnormalUsers))]['orders'],\n",
    "    orders_by_non_purchased_users_B\n",
    "], axis = 0)\n",
    "print('\\nОтносительный прирост конверсии группы B по отношению к группе A после очистки данных: {:.3f}'.format(sampleBFiltered.mean()/sampleAFiltered.mean()-1))\n",
    "results = stats.mannwhitneyu(sampleAFiltered, sampleBFiltered)\n",
    "print('P-value: {}'.format(results.pvalue))\n",
    "if results.pvalue < alpha:\n",
    "    print('По очищенным данным в конверсии групп A и B разница статистически значима.')\n",
    "else:\n",
    "    print('По очищенным данным различий в конверсии групп A и B нет.')"
   ]
  },
  {
   "cell_type": "markdown",
   "metadata": {},
   "source": [
    "Принимаем альтернативную гипотезу: По очищенным данным в конверсии групп A и B разница статистически значима."
   ]
  },
  {
   "cell_type": "markdown",
   "metadata": {},
   "source": [
    "**13. Считаю статистическую значимость различий в среднем чеке заказа между группами по «очищенным» данным. Делаю выводы и предположения:**"
   ]
  },
  {
   "cell_type": "markdown",
   "metadata": {},
   "source": [
    "**Формулирую нулевую и альтернативную гипотезы:**\n",
    "\n",
    "* Нулевая: По очищенным данным различий в средних чеках в группах A и B нет.\n",
    "* Альтернативная: По очищенным данным различия в средних чеках между группами А и В есть."
   ]
  },
  {
   "cell_type": "code",
   "execution_count": 53,
   "metadata": {},
   "outputs": [
    {
     "name": "stdout",
     "output_type": "stream",
     "text": [
      "Относительное изменение среднего чека в группе B по отношению группы A после очистки данных: -0.006\n",
      "P-value: 0.8509126191381939\n",
      "По очищенным данным различий в средних чеках в группах A и B нет.\n"
     ]
    }
   ],
   "source": [
    "print('Относительное изменение среднего чека в группе B по отношению группы A после очистки данных: {:.3f}'.format(\n",
    "orders[np.logical_and(orders['group']=='B', np.logical_not(orders['visitorid'].isin(abnormalUsers)))]['revenue'].mean()\\\n",
    "/orders[np.logical_and(orders['group']=='A', np.logical_not(orders['visitorid'].isin(abnormalUsers)))]['revenue'].mean()-1))\n",
    "       \n",
    "       \n",
    "results = stats.mannwhitneyu(orders[np.logical_and(orders['group']=='A', np.logical_not(orders['visitorid'].isin(abnormalUsers)))]['revenue'],\n",
    "                             orders[np.logical_and(orders['group']=='B', np.logical_not(orders['visitorid'].isin(abnormalUsers)))]['revenue'])\n",
    "print('P-value: {}'.format(results.pvalue))\n",
    "if results.pvalue < alpha:\n",
    "    print('По очищенным данным разница в средних чеках в группах A и B статистически значима.')\n",
    "else:\n",
    "    print('По очищенным данным различий в средних чеках в группах A и B нет.')"
   ]
  },
  {
   "cell_type": "markdown",
   "metadata": {},
   "source": [
    "Принимаем нулевую гипотезу: По очищенным данным различий в средних чеках в группах A и B нет."
   ]
  },
  {
   "cell_type": "markdown",
   "metadata": {},
   "source": [
    "**14. Принимаю решение по результатам теста и объясняю его. Варианты решений:**\n",
    "\n",
    "1. Остановить тест, зафиксировать победу одной из групп.\n",
    "2. Остановить тест, зафиксировать отсутствие различий между группами.\n",
    "3. Продолжить тест."
   ]
  },
  {
   "cell_type": "markdown",
   "metadata": {},
   "source": [
    "**Общие выводы:**"
   ]
  },
  {
   "cell_type": "markdown",
   "metadata": {},
   "source": [
    "* Выборка данных имеет корректный размер.\n",
    "* Количество аномальных пользователей: 15\n",
    "* Группа В показывает лучшие результаты кумулятивных метрик по выручке, среднему чеку и конверсии. \n",
    "* После очистки данных мы убедились в том, что разница между средними чеками минимальна - это даёт нам уверенность в том, что тест и его результаты корректны.\n",
    "* Разница показателей конверсии между группами и до и после очистки данных является статистически значимой, что пользволяет нам сделать вывод о том, что мы можем остановить A/B тест и зафиксировать победу группы B."
   ]
  }
 ],
 "metadata": {
  "ExecuteTimeLog": [
   {
    "duration": 110,
    "start_time": "2023-05-04T11:11:08.774Z"
   },
   {
    "duration": 1463,
    "start_time": "2023-05-04T11:11:28.732Z"
   },
   {
    "duration": 77,
    "start_time": "2023-05-04T11:13:06.830Z"
   },
   {
    "duration": 13,
    "start_time": "2023-05-04T11:13:23.808Z"
   },
   {
    "duration": 77,
    "start_time": "2023-05-04T11:19:49.073Z"
   },
   {
    "duration": 155,
    "start_time": "2023-05-04T11:30:01.405Z"
   },
   {
    "duration": 13,
    "start_time": "2023-05-04T11:30:36.742Z"
   },
   {
    "duration": 9,
    "start_time": "2023-05-04T11:31:00.654Z"
   },
   {
    "duration": 8,
    "start_time": "2023-05-04T11:31:04.045Z"
   },
   {
    "duration": 1225,
    "start_time": "2023-05-04T11:38:38.377Z"
   },
   {
    "duration": 10,
    "start_time": "2023-05-04T11:39:22.997Z"
   },
   {
    "duration": 1376,
    "start_time": "2023-05-04T11:41:00.338Z"
   },
   {
    "duration": 11,
    "start_time": "2023-05-04T11:41:14.598Z"
   },
   {
    "duration": 408,
    "start_time": "2023-05-04T11:48:08.687Z"
   },
   {
    "duration": 1019,
    "start_time": "2023-05-04T11:49:12.597Z"
   },
   {
    "duration": 26,
    "start_time": "2023-05-04T11:49:13.618Z"
   },
   {
    "duration": 10,
    "start_time": "2023-05-04T11:49:13.646Z"
   },
   {
    "duration": 21,
    "start_time": "2023-05-04T11:49:13.658Z"
   },
   {
    "duration": 11,
    "start_time": "2023-05-04T11:49:13.681Z"
   },
   {
    "duration": 52,
    "start_time": "2023-05-04T11:49:13.693Z"
   },
   {
    "duration": 8,
    "start_time": "2023-05-04T11:49:13.746Z"
   },
   {
    "duration": 12,
    "start_time": "2023-05-04T11:49:13.755Z"
   },
   {
    "duration": 454,
    "start_time": "2023-05-04T11:49:13.768Z"
   },
   {
    "duration": 3,
    "start_time": "2023-05-04T11:49:54.812Z"
   },
   {
    "duration": 1135,
    "start_time": "2023-05-04T11:50:00.500Z"
   },
   {
    "duration": 26,
    "start_time": "2023-05-04T11:50:01.638Z"
   },
   {
    "duration": 57,
    "start_time": "2023-05-04T11:50:01.666Z"
   },
   {
    "duration": 47,
    "start_time": "2023-05-04T11:50:01.724Z"
   },
   {
    "duration": 34,
    "start_time": "2023-05-04T11:50:01.773Z"
   },
   {
    "duration": 90,
    "start_time": "2023-05-04T11:50:01.809Z"
   },
   {
    "duration": 66,
    "start_time": "2023-05-04T11:50:01.900Z"
   },
   {
    "duration": 35,
    "start_time": "2023-05-04T11:50:01.968Z"
   },
   {
    "duration": 572,
    "start_time": "2023-05-04T11:50:02.004Z"
   },
   {
    "duration": 770,
    "start_time": "2023-05-04T12:07:54.817Z"
   },
   {
    "duration": 598,
    "start_time": "2023-05-04T12:08:02.040Z"
   },
   {
    "duration": 408,
    "start_time": "2023-05-04T12:09:15.234Z"
   },
   {
    "duration": 998,
    "start_time": "2023-05-04T12:09:59.796Z"
   },
   {
    "duration": 553,
    "start_time": "2023-05-04T12:10:30.489Z"
   },
   {
    "duration": 1944,
    "start_time": "2023-05-04T12:13:21.278Z"
   },
   {
    "duration": 790,
    "start_time": "2023-05-04T12:14:23.510Z"
   },
   {
    "duration": 843,
    "start_time": "2023-05-04T12:14:46.234Z"
   },
   {
    "duration": 442,
    "start_time": "2023-05-04T12:15:39.925Z"
   },
   {
    "duration": 144,
    "start_time": "2023-05-04T12:17:18.600Z"
   },
   {
    "duration": 1145,
    "start_time": "2023-05-04T12:17:34.498Z"
   },
   {
    "duration": 27,
    "start_time": "2023-05-04T12:17:35.645Z"
   },
   {
    "duration": 18,
    "start_time": "2023-05-04T12:17:35.673Z"
   },
   {
    "duration": 19,
    "start_time": "2023-05-04T12:17:35.695Z"
   },
   {
    "duration": 11,
    "start_time": "2023-05-04T12:17:35.717Z"
   },
   {
    "duration": 73,
    "start_time": "2023-05-04T12:17:35.729Z"
   },
   {
    "duration": 8,
    "start_time": "2023-05-04T12:17:35.803Z"
   },
   {
    "duration": 35,
    "start_time": "2023-05-04T12:17:35.812Z"
   },
   {
    "duration": 121,
    "start_time": "2023-05-04T12:17:35.849Z"
   },
   {
    "duration": 0,
    "start_time": "2023-05-04T12:17:35.972Z"
   },
   {
    "duration": 246,
    "start_time": "2023-05-04T12:19:55.893Z"
   },
   {
    "duration": 261,
    "start_time": "2023-05-04T12:20:00.216Z"
   },
   {
    "duration": 246,
    "start_time": "2023-05-04T12:22:17.045Z"
   },
   {
    "duration": 260,
    "start_time": "2023-05-04T12:22:21.850Z"
   },
   {
    "duration": 255,
    "start_time": "2023-05-04T12:22:28.722Z"
   },
   {
    "duration": 259,
    "start_time": "2023-05-04T12:22:41.425Z"
   },
   {
    "duration": 244,
    "start_time": "2023-05-04T12:22:56.996Z"
   },
   {
    "duration": 265,
    "start_time": "2023-05-04T12:25:07.828Z"
   },
   {
    "duration": 324,
    "start_time": "2023-05-04T14:43:05.514Z"
   },
   {
    "duration": 289,
    "start_time": "2023-05-04T14:43:28.554Z"
   },
   {
    "duration": 264,
    "start_time": "2023-05-04T14:45:32.976Z"
   },
   {
    "duration": 286,
    "start_time": "2023-05-04T14:47:09.638Z"
   },
   {
    "duration": 289,
    "start_time": "2023-05-04T14:50:14.852Z"
   },
   {
    "duration": 336,
    "start_time": "2023-05-04T14:50:45.698Z"
   },
   {
    "duration": 276,
    "start_time": "2023-05-04T14:50:57.474Z"
   },
   {
    "duration": 267,
    "start_time": "2023-05-04T14:51:08.311Z"
   },
   {
    "duration": 59,
    "start_time": "2023-05-04T14:54:40.678Z"
   },
   {
    "duration": 339,
    "start_time": "2023-05-04T14:54:52.449Z"
   },
   {
    "duration": 378,
    "start_time": "2023-05-04T14:59:47.857Z"
   },
   {
    "duration": 338,
    "start_time": "2023-05-04T14:59:56.392Z"
   },
   {
    "duration": 484,
    "start_time": "2023-05-04T15:01:16.882Z"
   },
   {
    "duration": 66,
    "start_time": "2023-05-04T15:02:49.631Z"
   },
   {
    "duration": 13,
    "start_time": "2023-05-04T15:03:15.064Z"
   },
   {
    "duration": 10,
    "start_time": "2023-05-04T15:04:29.370Z"
   },
   {
    "duration": 349,
    "start_time": "2023-05-04T15:04:38.271Z"
   },
   {
    "duration": 73,
    "start_time": "2023-05-04T15:04:49.895Z"
   },
   {
    "duration": 308,
    "start_time": "2023-05-04T15:04:57.251Z"
   },
   {
    "duration": 225,
    "start_time": "2023-05-04T15:12:34.623Z"
   },
   {
    "duration": 432,
    "start_time": "2023-05-04T15:13:01.196Z"
   },
   {
    "duration": 51,
    "start_time": "2023-05-04T16:44:40.807Z"
   },
   {
    "duration": 7,
    "start_time": "2023-05-04T16:45:20.194Z"
   },
   {
    "duration": 7,
    "start_time": "2023-05-04T16:49:42.909Z"
   },
   {
    "duration": 8,
    "start_time": "2023-05-04T16:50:22.929Z"
   },
   {
    "duration": 1348,
    "start_time": "2023-05-04T16:51:17.755Z"
   },
   {
    "duration": 57,
    "start_time": "2023-05-04T16:51:19.105Z"
   },
   {
    "duration": 16,
    "start_time": "2023-05-04T16:51:19.164Z"
   },
   {
    "duration": 10,
    "start_time": "2023-05-04T16:51:19.182Z"
   },
   {
    "duration": 8,
    "start_time": "2023-05-04T16:51:19.194Z"
   },
   {
    "duration": 127,
    "start_time": "2023-05-04T16:51:19.204Z"
   },
   {
    "duration": 8,
    "start_time": "2023-05-04T16:51:19.332Z"
   },
   {
    "duration": 16,
    "start_time": "2023-05-04T16:51:19.342Z"
   },
   {
    "duration": 260,
    "start_time": "2023-05-04T16:51:19.359Z"
   },
   {
    "duration": 288,
    "start_time": "2023-05-04T16:51:19.622Z"
   },
   {
    "duration": 282,
    "start_time": "2023-05-04T16:51:19.912Z"
   },
   {
    "duration": 296,
    "start_time": "2023-05-04T16:51:20.195Z"
   },
   {
    "duration": 419,
    "start_time": "2023-05-04T16:51:20.493Z"
   },
   {
    "duration": 313,
    "start_time": "2023-05-04T16:51:20.914Z"
   },
   {
    "duration": 345,
    "start_time": "2023-05-04T16:51:21.229Z"
   },
   {
    "duration": 102,
    "start_time": "2023-05-04T16:51:21.576Z"
   },
   {
    "duration": 115,
    "start_time": "2023-05-04T16:51:34.999Z"
   },
   {
    "duration": 178,
    "start_time": "2023-05-04T16:52:13.154Z"
   },
   {
    "duration": 4,
    "start_time": "2023-05-04T17:04:51.346Z"
   },
   {
    "duration": 9,
    "start_time": "2023-05-04T17:06:02.568Z"
   },
   {
    "duration": 135,
    "start_time": "2023-05-04T17:06:43.634Z"
   },
   {
    "duration": 9,
    "start_time": "2023-05-04T17:07:21.462Z"
   },
   {
    "duration": 5,
    "start_time": "2023-05-04T17:07:32.548Z"
   },
   {
    "duration": 101,
    "start_time": "2023-05-04T17:12:42.933Z"
   },
   {
    "duration": 106,
    "start_time": "2023-05-04T17:13:41.236Z"
   },
   {
    "duration": 36,
    "start_time": "2023-05-04T17:18:33.905Z"
   },
   {
    "duration": 3,
    "start_time": "2023-05-04T17:19:09.734Z"
   },
   {
    "duration": 1215,
    "start_time": "2023-05-04T17:19:17.533Z"
   },
   {
    "duration": 22,
    "start_time": "2023-05-04T17:19:18.750Z"
   },
   {
    "duration": 12,
    "start_time": "2023-05-04T17:19:18.774Z"
   },
   {
    "duration": 10,
    "start_time": "2023-05-04T17:19:18.788Z"
   },
   {
    "duration": 9,
    "start_time": "2023-05-04T17:19:18.799Z"
   },
   {
    "duration": 43,
    "start_time": "2023-05-04T17:19:18.809Z"
   },
   {
    "duration": 9,
    "start_time": "2023-05-04T17:19:18.855Z"
   },
   {
    "duration": 10,
    "start_time": "2023-05-04T17:19:18.865Z"
   },
   {
    "duration": 268,
    "start_time": "2023-05-04T17:19:18.877Z"
   },
   {
    "duration": 406,
    "start_time": "2023-05-04T17:19:19.147Z"
   },
   {
    "duration": 344,
    "start_time": "2023-05-04T17:19:19.555Z"
   },
   {
    "duration": 325,
    "start_time": "2023-05-04T17:19:19.902Z"
   },
   {
    "duration": 464,
    "start_time": "2023-05-04T17:19:20.229Z"
   },
   {
    "duration": 328,
    "start_time": "2023-05-04T17:19:20.695Z"
   },
   {
    "duration": 366,
    "start_time": "2023-05-04T17:19:21.025Z"
   },
   {
    "duration": 127,
    "start_time": "2023-05-04T17:19:21.393Z"
   },
   {
    "duration": 5,
    "start_time": "2023-05-04T17:19:21.521Z"
   },
   {
    "duration": 224,
    "start_time": "2023-05-04T17:19:21.527Z"
   },
   {
    "duration": 4,
    "start_time": "2023-05-04T17:19:21.753Z"
   },
   {
    "duration": 72,
    "start_time": "2023-05-04T17:19:21.759Z"
   },
   {
    "duration": 47,
    "start_time": "2023-05-04T17:21:04.494Z"
   },
   {
    "duration": 49,
    "start_time": "2023-05-04T17:21:44.599Z"
   },
   {
    "duration": 56,
    "start_time": "2023-05-04T17:22:14.137Z"
   },
   {
    "duration": 11,
    "start_time": "2023-05-04T17:23:05.523Z"
   },
   {
    "duration": 1267,
    "start_time": "2023-05-04T17:24:52.873Z"
   },
   {
    "duration": 1166,
    "start_time": "2023-05-04T17:25:17.131Z"
   },
   {
    "duration": 13,
    "start_time": "2023-05-04T17:25:30.035Z"
   },
   {
    "duration": 10,
    "start_time": "2023-05-04T17:26:54.029Z"
   },
   {
    "duration": 12,
    "start_time": "2023-05-04T17:27:46.932Z"
   },
   {
    "duration": 9,
    "start_time": "2023-05-04T17:28:49.625Z"
   },
   {
    "duration": 9,
    "start_time": "2023-05-04T17:29:00.425Z"
   },
   {
    "duration": 1136,
    "start_time": "2023-05-04T17:30:47.576Z"
   },
   {
    "duration": 14,
    "start_time": "2023-05-04T17:31:09.095Z"
   },
   {
    "duration": 17,
    "start_time": "2023-05-04T17:32:21.684Z"
   },
   {
    "duration": 14,
    "start_time": "2023-05-04T17:32:29.434Z"
   },
   {
    "duration": 1178,
    "start_time": "2023-05-05T05:28:12.828Z"
   },
   {
    "duration": 63,
    "start_time": "2023-05-05T05:28:14.008Z"
   },
   {
    "duration": 14,
    "start_time": "2023-05-05T05:28:14.074Z"
   },
   {
    "duration": 12,
    "start_time": "2023-05-05T05:28:14.091Z"
   },
   {
    "duration": 11,
    "start_time": "2023-05-05T05:28:14.105Z"
   },
   {
    "duration": 130,
    "start_time": "2023-05-05T05:28:14.118Z"
   },
   {
    "duration": 11,
    "start_time": "2023-05-05T05:28:14.250Z"
   },
   {
    "duration": 11,
    "start_time": "2023-05-05T05:28:14.262Z"
   },
   {
    "duration": 271,
    "start_time": "2023-05-05T05:28:14.275Z"
   },
   {
    "duration": 317,
    "start_time": "2023-05-05T05:28:14.549Z"
   },
   {
    "duration": 310,
    "start_time": "2023-05-05T05:28:14.868Z"
   },
   {
    "duration": 316,
    "start_time": "2023-05-05T05:28:15.180Z"
   },
   {
    "duration": 398,
    "start_time": "2023-05-05T05:28:15.498Z"
   },
   {
    "duration": 312,
    "start_time": "2023-05-05T05:28:15.898Z"
   },
   {
    "duration": 377,
    "start_time": "2023-05-05T05:28:16.212Z"
   },
   {
    "duration": 123,
    "start_time": "2023-05-05T05:28:16.591Z"
   },
   {
    "duration": 5,
    "start_time": "2023-05-05T05:28:16.716Z"
   },
   {
    "duration": 232,
    "start_time": "2023-05-05T05:28:16.722Z"
   },
   {
    "duration": 4,
    "start_time": "2023-05-05T05:28:16.956Z"
   },
   {
    "duration": 61,
    "start_time": "2023-05-05T05:28:16.962Z"
   },
   {
    "duration": 11,
    "start_time": "2023-05-05T05:28:17.025Z"
   },
   {
    "duration": 19,
    "start_time": "2023-05-05T05:28:17.038Z"
   },
   {
    "duration": 22,
    "start_time": "2023-05-05T05:28:17.059Z"
   },
   {
    "duration": 42,
    "start_time": "2023-05-10T16:26:28.534Z"
   },
   {
    "duration": 1259,
    "start_time": "2023-05-10T16:26:37.540Z"
   },
   {
    "duration": 55,
    "start_time": "2023-05-10T16:26:38.801Z"
   },
   {
    "duration": 11,
    "start_time": "2023-05-10T16:26:38.857Z"
   },
   {
    "duration": 18,
    "start_time": "2023-05-10T16:26:38.869Z"
   },
   {
    "duration": 7,
    "start_time": "2023-05-10T16:26:38.888Z"
   },
   {
    "duration": 117,
    "start_time": "2023-05-10T16:26:38.897Z"
   },
   {
    "duration": 7,
    "start_time": "2023-05-10T16:26:39.016Z"
   },
   {
    "duration": 8,
    "start_time": "2023-05-10T16:26:39.024Z"
   },
   {
    "duration": 242,
    "start_time": "2023-05-10T16:26:39.033Z"
   },
   {
    "duration": 261,
    "start_time": "2023-05-10T16:26:39.277Z"
   },
   {
    "duration": 248,
    "start_time": "2023-05-10T16:26:39.539Z"
   },
   {
    "duration": 257,
    "start_time": "2023-05-10T16:26:39.788Z"
   },
   {
    "duration": 371,
    "start_time": "2023-05-10T16:26:40.047Z"
   },
   {
    "duration": 256,
    "start_time": "2023-05-10T16:26:40.421Z"
   },
   {
    "duration": 319,
    "start_time": "2023-05-10T16:26:40.678Z"
   },
   {
    "duration": 100,
    "start_time": "2023-05-10T16:26:40.999Z"
   },
   {
    "duration": 3,
    "start_time": "2023-05-10T16:26:41.101Z"
   },
   {
    "duration": 183,
    "start_time": "2023-05-10T16:26:41.106Z"
   },
   {
    "duration": 3,
    "start_time": "2023-05-10T16:26:41.291Z"
   },
   {
    "duration": 48,
    "start_time": "2023-05-10T16:26:41.296Z"
   },
   {
    "duration": 8,
    "start_time": "2023-05-10T16:26:41.345Z"
   },
   {
    "duration": 12,
    "start_time": "2023-05-10T16:26:41.355Z"
   },
   {
    "duration": 20,
    "start_time": "2023-05-10T16:26:41.368Z"
   },
   {
    "duration": 8,
    "start_time": "2023-05-10T16:40:20.465Z"
   },
   {
    "duration": 74,
    "start_time": "2023-05-10T16:40:49.263Z"
   },
   {
    "duration": 7,
    "start_time": "2023-05-10T16:41:01.193Z"
   },
   {
    "duration": 8,
    "start_time": "2023-05-10T16:41:28.215Z"
   },
   {
    "duration": 7,
    "start_time": "2023-05-10T16:41:48.223Z"
   },
   {
    "duration": 7,
    "start_time": "2023-05-10T16:43:23.177Z"
   },
   {
    "duration": 8,
    "start_time": "2023-05-10T16:43:28.953Z"
   },
   {
    "duration": 7,
    "start_time": "2023-05-10T16:43:34.294Z"
   },
   {
    "duration": 8,
    "start_time": "2023-05-10T16:43:40.152Z"
   },
   {
    "duration": 10,
    "start_time": "2023-05-10T16:43:52.614Z"
   },
   {
    "duration": 7,
    "start_time": "2023-05-10T16:43:58.069Z"
   },
   {
    "duration": 8,
    "start_time": "2023-05-10T16:44:01.822Z"
   },
   {
    "duration": 8,
    "start_time": "2023-05-10T16:44:05.710Z"
   },
   {
    "duration": 8,
    "start_time": "2023-05-10T16:44:21.264Z"
   },
   {
    "duration": 1317,
    "start_time": "2023-05-10T19:05:05.866Z"
   },
   {
    "duration": 1210,
    "start_time": "2023-05-10T19:06:46.819Z"
   },
   {
    "duration": 58,
    "start_time": "2023-05-10T19:06:48.030Z"
   },
   {
    "duration": 23,
    "start_time": "2023-05-10T19:06:48.089Z"
   },
   {
    "duration": 17,
    "start_time": "2023-05-10T19:06:48.113Z"
   },
   {
    "duration": 9,
    "start_time": "2023-05-10T19:06:48.132Z"
   },
   {
    "duration": 131,
    "start_time": "2023-05-10T19:06:48.143Z"
   },
   {
    "duration": 9,
    "start_time": "2023-05-10T19:06:48.276Z"
   },
   {
    "duration": 20,
    "start_time": "2023-05-10T19:06:48.287Z"
   },
   {
    "duration": 306,
    "start_time": "2023-05-10T19:06:48.309Z"
   },
   {
    "duration": 330,
    "start_time": "2023-05-10T19:06:48.618Z"
   },
   {
    "duration": 326,
    "start_time": "2023-05-10T19:06:48.950Z"
   },
   {
    "duration": 422,
    "start_time": "2023-05-10T19:06:49.278Z"
   },
   {
    "duration": 395,
    "start_time": "2023-05-10T19:06:49.704Z"
   },
   {
    "duration": 320,
    "start_time": "2023-05-10T19:06:50.106Z"
   },
   {
    "duration": 378,
    "start_time": "2023-05-10T19:06:50.428Z"
   },
   {
    "duration": 132,
    "start_time": "2023-05-10T19:06:50.810Z"
   },
   {
    "duration": 6,
    "start_time": "2023-05-10T19:06:50.943Z"
   },
   {
    "duration": 157,
    "start_time": "2023-05-10T19:06:50.950Z"
   },
   {
    "duration": 7,
    "start_time": "2023-05-10T19:06:51.109Z"
   },
   {
    "duration": 62,
    "start_time": "2023-05-10T19:06:51.117Z"
   },
   {
    "duration": 21,
    "start_time": "2023-05-10T19:06:51.181Z"
   },
   {
    "duration": 18,
    "start_time": "2023-05-10T19:06:51.204Z"
   },
   {
    "duration": 19,
    "start_time": "2023-05-10T19:06:51.226Z"
   },
   {
    "duration": 1136,
    "start_time": "2023-05-10T19:29:13.548Z"
   },
   {
    "duration": 35,
    "start_time": "2023-05-10T19:29:14.686Z"
   },
   {
    "duration": 15,
    "start_time": "2023-05-10T19:29:14.722Z"
   },
   {
    "duration": 17,
    "start_time": "2023-05-10T19:29:14.738Z"
   },
   {
    "duration": 21,
    "start_time": "2023-05-10T19:29:14.757Z"
   },
   {
    "duration": 60,
    "start_time": "2023-05-10T19:29:14.780Z"
   },
   {
    "duration": 8,
    "start_time": "2023-05-10T19:29:14.842Z"
   },
   {
    "duration": 19,
    "start_time": "2023-05-10T19:29:14.851Z"
   },
   {
    "duration": 335,
    "start_time": "2023-05-10T19:29:14.871Z"
   },
   {
    "duration": 347,
    "start_time": "2023-05-10T19:29:15.211Z"
   },
   {
    "duration": 337,
    "start_time": "2023-05-10T19:29:15.560Z"
   },
   {
    "duration": 356,
    "start_time": "2023-05-10T19:29:15.899Z"
   },
   {
    "duration": 444,
    "start_time": "2023-05-10T19:29:16.257Z"
   },
   {
    "duration": 349,
    "start_time": "2023-05-10T19:29:16.705Z"
   },
   {
    "duration": 463,
    "start_time": "2023-05-10T19:29:17.056Z"
   },
   {
    "duration": 190,
    "start_time": "2023-05-10T19:29:17.522Z"
   },
   {
    "duration": 7,
    "start_time": "2023-05-10T19:29:17.715Z"
   },
   {
    "duration": 144,
    "start_time": "2023-05-10T19:29:17.724Z"
   },
   {
    "duration": 5,
    "start_time": "2023-05-10T19:29:17.870Z"
   },
   {
    "duration": 88,
    "start_time": "2023-05-10T19:29:17.877Z"
   },
   {
    "duration": 13,
    "start_time": "2023-05-10T19:29:17.967Z"
   },
   {
    "duration": 16,
    "start_time": "2023-05-10T19:29:17.991Z"
   },
   {
    "duration": 16,
    "start_time": "2023-05-10T19:29:18.013Z"
   },
   {
    "duration": 107,
    "start_time": "2023-05-10T19:33:51.451Z"
   },
   {
    "duration": 4,
    "start_time": "2023-05-10T19:34:18.778Z"
   },
   {
    "duration": 99,
    "start_time": "2023-05-10T19:35:00.512Z"
   },
   {
    "duration": 3,
    "start_time": "2023-05-10T19:35:51.068Z"
   },
   {
    "duration": 115,
    "start_time": "2023-05-10T19:36:08.220Z"
   },
   {
    "duration": 4,
    "start_time": "2023-05-10T19:36:15.544Z"
   },
   {
    "duration": 12,
    "start_time": "2023-05-10T19:37:31.780Z"
   },
   {
    "duration": 15,
    "start_time": "2023-05-10T19:37:41.714Z"
   },
   {
    "duration": 11,
    "start_time": "2023-05-10T19:37:58.548Z"
   },
   {
    "duration": 3,
    "start_time": "2023-05-10T19:39:35.453Z"
   },
   {
    "duration": 12,
    "start_time": "2023-05-10T19:42:20.891Z"
   },
   {
    "duration": 10,
    "start_time": "2023-05-10T19:42:29.777Z"
   },
   {
    "duration": 15,
    "start_time": "2023-05-10T19:42:50.111Z"
   },
   {
    "duration": 7,
    "start_time": "2023-05-10T19:45:17.619Z"
   },
   {
    "duration": 139,
    "start_time": "2023-05-10T19:45:38.924Z"
   },
   {
    "duration": 10,
    "start_time": "2023-05-10T19:47:10.615Z"
   },
   {
    "duration": 12,
    "start_time": "2023-05-10T19:48:35.455Z"
   },
   {
    "duration": 14,
    "start_time": "2023-05-10T19:49:08.589Z"
   },
   {
    "duration": 13,
    "start_time": "2023-05-10T19:49:16.361Z"
   },
   {
    "duration": 5,
    "start_time": "2023-05-10T19:49:35.544Z"
   },
   {
    "duration": 8,
    "start_time": "2023-05-10T19:50:10.853Z"
   },
   {
    "duration": 6,
    "start_time": "2023-05-10T19:51:45.874Z"
   },
   {
    "duration": 126,
    "start_time": "2023-05-10T19:53:14.749Z"
   },
   {
    "duration": 30,
    "start_time": "2023-05-10T19:53:54.028Z"
   },
   {
    "duration": 16,
    "start_time": "2023-05-10T19:53:57.025Z"
   },
   {
    "duration": 582,
    "start_time": "2023-05-10T19:54:28.824Z"
   },
   {
    "duration": 361,
    "start_time": "2023-05-10T20:15:43.612Z"
   },
   {
    "duration": 335,
    "start_time": "2023-05-10T20:16:10.277Z"
   },
   {
    "duration": 344,
    "start_time": "2023-05-10T20:16:35.882Z"
   },
   {
    "duration": 320,
    "start_time": "2023-05-10T20:17:05.879Z"
   },
   {
    "duration": 383,
    "start_time": "2023-05-10T20:17:16.863Z"
   },
   {
    "duration": 472,
    "start_time": "2023-05-10T20:18:17.115Z"
   },
   {
    "duration": 496,
    "start_time": "2023-05-10T20:18:32.061Z"
   },
   {
    "duration": 403,
    "start_time": "2023-05-10T20:18:58.667Z"
   },
   {
    "duration": 362,
    "start_time": "2023-05-10T20:19:12.161Z"
   },
   {
    "duration": 332,
    "start_time": "2023-05-10T20:19:19.143Z"
   },
   {
    "duration": 463,
    "start_time": "2023-05-10T20:19:46.043Z"
   },
   {
    "duration": 9,
    "start_time": "2023-05-10T20:22:02.486Z"
   },
   {
    "duration": 5,
    "start_time": "2023-05-10T20:23:52.662Z"
   },
   {
    "duration": 377,
    "start_time": "2023-05-10T20:24:44.653Z"
   },
   {
    "duration": 26,
    "start_time": "2023-05-10T20:27:20.493Z"
   },
   {
    "duration": 5,
    "start_time": "2023-05-10T20:27:43.342Z"
   },
   {
    "duration": 42,
    "start_time": "2023-05-10T20:32:19.536Z"
   },
   {
    "duration": 52,
    "start_time": "2023-05-10T20:32:36.010Z"
   },
   {
    "duration": 21,
    "start_time": "2023-05-10T20:33:20.428Z"
   },
   {
    "duration": 6,
    "start_time": "2023-05-10T20:36:39.545Z"
   },
   {
    "duration": 5,
    "start_time": "2023-05-10T20:36:54.539Z"
   },
   {
    "duration": 11,
    "start_time": "2023-05-10T20:45:02.338Z"
   },
   {
    "duration": 108,
    "start_time": "2023-05-10T20:45:20.367Z"
   },
   {
    "duration": 35,
    "start_time": "2023-05-10T20:47:36.025Z"
   },
   {
    "duration": 343,
    "start_time": "2023-05-10T20:48:10.570Z"
   },
   {
    "duration": 325,
    "start_time": "2023-05-10T20:48:41.853Z"
   },
   {
    "duration": 376,
    "start_time": "2023-05-10T20:48:51.055Z"
   },
   {
    "duration": 5,
    "start_time": "2023-05-10T20:49:58.967Z"
   },
   {
    "duration": 77,
    "start_time": "2023-05-10T20:50:55.112Z"
   },
   {
    "duration": 349,
    "start_time": "2023-05-10T20:53:35.853Z"
   },
   {
    "duration": 256,
    "start_time": "2023-05-10T20:53:58.856Z"
   },
   {
    "duration": 265,
    "start_time": "2023-05-10T20:54:04.740Z"
   },
   {
    "duration": 255,
    "start_time": "2023-05-10T21:03:29.532Z"
   },
   {
    "duration": 415,
    "start_time": "2023-05-10T21:04:20.651Z"
   },
   {
    "duration": 336,
    "start_time": "2023-05-10T21:05:51.081Z"
   },
   {
    "duration": 482,
    "start_time": "2023-05-10T21:06:42.518Z"
   },
   {
    "duration": 385,
    "start_time": "2023-05-10T21:07:03.770Z"
   },
   {
    "duration": 15,
    "start_time": "2023-05-10T21:07:53.445Z"
   },
   {
    "duration": 354,
    "start_time": "2023-05-10T21:08:04.343Z"
   },
   {
    "duration": 391,
    "start_time": "2023-05-10T21:08:27.136Z"
   },
   {
    "duration": 12,
    "start_time": "2023-05-10T21:11:19.867Z"
   },
   {
    "duration": 300,
    "start_time": "2023-05-10T21:12:13.357Z"
   },
   {
    "duration": 14,
    "start_time": "2023-05-10T21:12:16.425Z"
   },
   {
    "duration": 13,
    "start_time": "2023-05-10T21:12:41.132Z"
   },
   {
    "duration": 1428,
    "start_time": "2023-05-10T21:12:51.524Z"
   },
   {
    "duration": 1489,
    "start_time": "2023-05-10T21:34:54.346Z"
   },
   {
    "duration": 10,
    "start_time": "2023-05-10T21:36:03.480Z"
   },
   {
    "duration": 12,
    "start_time": "2023-05-10T21:36:34.243Z"
   },
   {
    "duration": 1325,
    "start_time": "2023-05-10T21:36:44.256Z"
   },
   {
    "duration": 21,
    "start_time": "2023-05-10T21:38:01.489Z"
   },
   {
    "duration": 344,
    "start_time": "2023-05-10T21:39:11.171Z"
   },
   {
    "duration": 290,
    "start_time": "2023-05-10T21:39:39.163Z"
   },
   {
    "duration": 1148,
    "start_time": "2023-05-10T21:43:47.025Z"
   },
   {
    "duration": 34,
    "start_time": "2023-05-10T21:43:48.175Z"
   },
   {
    "duration": 14,
    "start_time": "2023-05-10T21:43:48.211Z"
   },
   {
    "duration": 10,
    "start_time": "2023-05-10T21:43:48.227Z"
   },
   {
    "duration": 10,
    "start_time": "2023-05-10T21:43:48.238Z"
   },
   {
    "duration": 60,
    "start_time": "2023-05-10T21:43:48.249Z"
   },
   {
    "duration": 10,
    "start_time": "2023-05-10T21:43:48.314Z"
   },
   {
    "duration": 7,
    "start_time": "2023-05-10T21:43:48.326Z"
   },
   {
    "duration": 11,
    "start_time": "2023-05-10T21:43:48.334Z"
   },
   {
    "duration": 6,
    "start_time": "2023-05-10T21:43:48.348Z"
   },
   {
    "duration": 5,
    "start_time": "2023-05-10T21:43:48.356Z"
   },
   {
    "duration": 13,
    "start_time": "2023-05-10T21:43:48.363Z"
   },
   {
    "duration": 23,
    "start_time": "2023-05-10T21:43:48.377Z"
   },
   {
    "duration": 8,
    "start_time": "2023-05-10T21:43:48.405Z"
   },
   {
    "duration": 12,
    "start_time": "2023-05-10T21:43:48.414Z"
   },
   {
    "duration": 20,
    "start_time": "2023-05-10T21:43:48.428Z"
   },
   {
    "duration": 9,
    "start_time": "2023-05-10T21:43:48.450Z"
   },
   {
    "duration": 10,
    "start_time": "2023-05-10T21:43:48.461Z"
   },
   {
    "duration": 30,
    "start_time": "2023-05-10T21:43:48.473Z"
   },
   {
    "duration": 12,
    "start_time": "2023-05-10T21:43:48.515Z"
   },
   {
    "duration": 4,
    "start_time": "2023-05-10T21:43:48.529Z"
   },
   {
    "duration": 13,
    "start_time": "2023-05-10T21:43:48.535Z"
   },
   {
    "duration": 7,
    "start_time": "2023-05-10T21:43:48.550Z"
   },
   {
    "duration": 17,
    "start_time": "2023-05-10T21:43:48.558Z"
   },
   {
    "duration": 6,
    "start_time": "2023-05-10T21:43:48.577Z"
   },
   {
    "duration": 28,
    "start_time": "2023-05-10T21:43:48.584Z"
   },
   {
    "duration": 13,
    "start_time": "2023-05-10T21:43:48.615Z"
   },
   {
    "duration": 317,
    "start_time": "2023-05-10T21:43:48.631Z"
   },
   {
    "duration": 4,
    "start_time": "2023-05-10T21:43:48.949Z"
   },
   {
    "duration": 6,
    "start_time": "2023-05-10T21:43:48.954Z"
   },
   {
    "duration": 22,
    "start_time": "2023-05-10T21:43:48.961Z"
   },
   {
    "duration": 51,
    "start_time": "2023-05-10T21:43:48.985Z"
   },
   {
    "duration": 16,
    "start_time": "2023-05-10T21:43:49.038Z"
   },
   {
    "duration": 6,
    "start_time": "2023-05-10T21:43:49.056Z"
   },
   {
    "duration": 303,
    "start_time": "2023-05-10T21:43:49.064Z"
   },
   {
    "duration": 4,
    "start_time": "2023-05-10T21:43:49.369Z"
   },
   {
    "duration": 320,
    "start_time": "2023-05-10T21:43:49.375Z"
   },
   {
    "duration": 236,
    "start_time": "2023-05-10T21:43:49.702Z"
   },
   {
    "duration": 315,
    "start_time": "2023-05-10T21:43:49.940Z"
   },
   {
    "duration": 282,
    "start_time": "2023-05-10T21:43:50.257Z"
   },
   {
    "duration": 122,
    "start_time": "2023-05-10T21:43:50.541Z"
   },
   {
    "duration": 0,
    "start_time": "2023-05-10T21:43:50.665Z"
   },
   {
    "duration": 0,
    "start_time": "2023-05-10T21:43:50.666Z"
   },
   {
    "duration": 0,
    "start_time": "2023-05-10T21:43:50.668Z"
   },
   {
    "duration": 0,
    "start_time": "2023-05-10T21:43:50.669Z"
   },
   {
    "duration": 0,
    "start_time": "2023-05-10T21:43:50.670Z"
   },
   {
    "duration": 0,
    "start_time": "2023-05-10T21:43:50.672Z"
   },
   {
    "duration": 0,
    "start_time": "2023-05-10T21:43:50.673Z"
   },
   {
    "duration": 0,
    "start_time": "2023-05-10T21:43:50.675Z"
   },
   {
    "duration": 304,
    "start_time": "2023-05-10T21:46:24.010Z"
   },
   {
    "duration": 2,
    "start_time": "2023-05-10T21:46:30.483Z"
   },
   {
    "duration": 49,
    "start_time": "2023-05-10T21:46:30.489Z"
   },
   {
    "duration": 14,
    "start_time": "2023-05-10T21:46:30.540Z"
   },
   {
    "duration": 31,
    "start_time": "2023-05-10T21:46:30.555Z"
   },
   {
    "duration": 27,
    "start_time": "2023-05-10T21:46:30.588Z"
   },
   {
    "duration": 53,
    "start_time": "2023-05-10T21:46:30.616Z"
   },
   {
    "duration": 9,
    "start_time": "2023-05-10T21:46:30.671Z"
   },
   {
    "duration": 27,
    "start_time": "2023-05-10T21:46:30.682Z"
   },
   {
    "duration": 19,
    "start_time": "2023-05-10T21:46:30.717Z"
   },
   {
    "duration": 18,
    "start_time": "2023-05-10T21:46:30.738Z"
   },
   {
    "duration": 37,
    "start_time": "2023-05-10T21:46:30.758Z"
   },
   {
    "duration": 19,
    "start_time": "2023-05-10T21:46:30.804Z"
   },
   {
    "duration": 82,
    "start_time": "2023-05-10T21:46:30.825Z"
   },
   {
    "duration": 27,
    "start_time": "2023-05-10T21:46:30.908Z"
   },
   {
    "duration": 21,
    "start_time": "2023-05-10T21:46:30.936Z"
   },
   {
    "duration": 58,
    "start_time": "2023-05-10T21:46:30.959Z"
   },
   {
    "duration": 13,
    "start_time": "2023-05-10T21:46:31.020Z"
   },
   {
    "duration": 42,
    "start_time": "2023-05-10T21:46:31.034Z"
   },
   {
    "duration": 40,
    "start_time": "2023-05-10T21:46:31.077Z"
   },
   {
    "duration": 21,
    "start_time": "2023-05-10T21:46:31.119Z"
   },
   {
    "duration": 39,
    "start_time": "2023-05-10T21:46:31.142Z"
   },
   {
    "duration": 45,
    "start_time": "2023-05-10T21:46:31.183Z"
   },
   {
    "duration": 36,
    "start_time": "2023-05-10T21:46:31.230Z"
   },
   {
    "duration": 11,
    "start_time": "2023-05-10T21:46:31.268Z"
   },
   {
    "duration": 26,
    "start_time": "2023-05-10T21:46:31.281Z"
   },
   {
    "duration": 26,
    "start_time": "2023-05-10T21:46:31.309Z"
   },
   {
    "duration": 34,
    "start_time": "2023-05-10T21:46:31.336Z"
   },
   {
    "duration": 335,
    "start_time": "2023-05-10T21:46:31.371Z"
   },
   {
    "duration": 5,
    "start_time": "2023-05-10T21:46:31.707Z"
   },
   {
    "duration": 7,
    "start_time": "2023-05-10T21:46:31.713Z"
   },
   {
    "duration": 17,
    "start_time": "2023-05-10T21:46:31.722Z"
   },
   {
    "duration": 18,
    "start_time": "2023-05-10T21:46:31.740Z"
   },
   {
    "duration": 40,
    "start_time": "2023-05-10T21:46:31.760Z"
   },
   {
    "duration": 16,
    "start_time": "2023-05-10T21:46:31.801Z"
   },
   {
    "duration": 412,
    "start_time": "2023-05-10T21:46:31.818Z"
   },
   {
    "duration": 5,
    "start_time": "2023-05-10T21:46:32.232Z"
   },
   {
    "duration": 276,
    "start_time": "2023-05-10T21:46:32.240Z"
   },
   {
    "duration": 251,
    "start_time": "2023-05-10T21:46:32.517Z"
   },
   {
    "duration": 368,
    "start_time": "2023-05-10T21:46:32.769Z"
   },
   {
    "duration": 259,
    "start_time": "2023-05-10T21:46:33.139Z"
   },
   {
    "duration": 292,
    "start_time": "2023-05-10T21:46:33.406Z"
   },
   {
    "duration": 18,
    "start_time": "2023-05-10T21:46:33.699Z"
   },
   {
    "duration": 0,
    "start_time": "2023-05-10T21:46:33.723Z"
   },
   {
    "duration": 0,
    "start_time": "2023-05-10T21:46:33.724Z"
   },
   {
    "duration": 0,
    "start_time": "2023-05-10T21:46:33.725Z"
   },
   {
    "duration": 0,
    "start_time": "2023-05-10T21:46:33.726Z"
   },
   {
    "duration": 0,
    "start_time": "2023-05-10T21:46:33.728Z"
   },
   {
    "duration": 0,
    "start_time": "2023-05-10T21:46:33.729Z"
   },
   {
    "duration": 0,
    "start_time": "2023-05-10T21:46:33.730Z"
   },
   {
    "duration": 132,
    "start_time": "2023-05-10T21:48:02.257Z"
   },
   {
    "duration": 296,
    "start_time": "2023-05-10T21:48:52.337Z"
   },
   {
    "duration": 262,
    "start_time": "2023-05-10T21:49:39.107Z"
   },
   {
    "duration": 371,
    "start_time": "2023-05-10T21:50:09.688Z"
   },
   {
    "duration": 315,
    "start_time": "2023-05-10T21:50:20.256Z"
   },
   {
    "duration": 270,
    "start_time": "2023-05-10T21:50:31.617Z"
   },
   {
    "duration": 6,
    "start_time": "2023-05-10T22:00:59.614Z"
   },
   {
    "duration": 130,
    "start_time": "2023-05-10T22:01:44.809Z"
   },
   {
    "duration": 402,
    "start_time": "2023-05-10T22:02:29.340Z"
   },
   {
    "duration": 519,
    "start_time": "2023-05-10T22:03:12.736Z"
   },
   {
    "duration": 450,
    "start_time": "2023-05-10T22:03:42.504Z"
   },
   {
    "duration": 263,
    "start_time": "2023-05-10T22:04:42.470Z"
   },
   {
    "duration": 140,
    "start_time": "2023-05-10T22:04:53.606Z"
   },
   {
    "duration": 162,
    "start_time": "2023-05-10T22:07:16.337Z"
   },
   {
    "duration": 119,
    "start_time": "2023-05-10T22:07:26.258Z"
   },
   {
    "duration": 134,
    "start_time": "2023-05-10T22:08:04.727Z"
   },
   {
    "duration": 125,
    "start_time": "2023-05-10T22:08:28.825Z"
   },
   {
    "duration": 1167,
    "start_time": "2023-05-10T22:08:58.863Z"
   },
   {
    "duration": 24,
    "start_time": "2023-05-10T22:09:00.032Z"
   },
   {
    "duration": 14,
    "start_time": "2023-05-10T22:09:00.058Z"
   },
   {
    "duration": 32,
    "start_time": "2023-05-10T22:09:00.074Z"
   },
   {
    "duration": 16,
    "start_time": "2023-05-10T22:09:00.108Z"
   },
   {
    "duration": 49,
    "start_time": "2023-05-10T22:09:00.126Z"
   },
   {
    "duration": 9,
    "start_time": "2023-05-10T22:09:00.177Z"
   },
   {
    "duration": 29,
    "start_time": "2023-05-10T22:09:00.187Z"
   },
   {
    "duration": 15,
    "start_time": "2023-05-10T22:09:00.218Z"
   },
   {
    "duration": 4,
    "start_time": "2023-05-10T22:09:00.236Z"
   },
   {
    "duration": 19,
    "start_time": "2023-05-10T22:09:00.242Z"
   },
   {
    "duration": 25,
    "start_time": "2023-05-10T22:09:00.263Z"
   },
   {
    "duration": 29,
    "start_time": "2023-05-10T22:09:00.289Z"
   },
   {
    "duration": 18,
    "start_time": "2023-05-10T22:09:00.320Z"
   },
   {
    "duration": 15,
    "start_time": "2023-05-10T22:09:00.340Z"
   },
   {
    "duration": 47,
    "start_time": "2023-05-10T22:09:00.357Z"
   },
   {
    "duration": 35,
    "start_time": "2023-05-10T22:09:00.405Z"
   },
   {
    "duration": 31,
    "start_time": "2023-05-10T22:09:00.442Z"
   },
   {
    "duration": 31,
    "start_time": "2023-05-10T22:09:00.475Z"
   },
   {
    "duration": 23,
    "start_time": "2023-05-10T22:09:00.507Z"
   },
   {
    "duration": 42,
    "start_time": "2023-05-10T22:09:00.532Z"
   },
   {
    "duration": 50,
    "start_time": "2023-05-10T22:09:00.577Z"
   },
   {
    "duration": 35,
    "start_time": "2023-05-10T22:09:00.630Z"
   },
   {
    "duration": 44,
    "start_time": "2023-05-10T22:09:00.667Z"
   },
   {
    "duration": 33,
    "start_time": "2023-05-10T22:09:00.713Z"
   },
   {
    "duration": 61,
    "start_time": "2023-05-10T22:09:00.748Z"
   },
   {
    "duration": 52,
    "start_time": "2023-05-10T22:09:00.810Z"
   },
   {
    "duration": 336,
    "start_time": "2023-05-10T22:09:00.866Z"
   },
   {
    "duration": 5,
    "start_time": "2023-05-10T22:09:01.204Z"
   },
   {
    "duration": 42,
    "start_time": "2023-05-10T22:09:01.212Z"
   },
   {
    "duration": 52,
    "start_time": "2023-05-10T22:09:01.256Z"
   },
   {
    "duration": 35,
    "start_time": "2023-05-10T22:09:01.310Z"
   },
   {
    "duration": 40,
    "start_time": "2023-05-10T22:09:01.347Z"
   },
   {
    "duration": 47,
    "start_time": "2023-05-10T22:09:01.389Z"
   },
   {
    "duration": 364,
    "start_time": "2023-05-10T22:09:01.439Z"
   },
   {
    "duration": 5,
    "start_time": "2023-05-10T22:09:01.807Z"
   },
   {
    "duration": 373,
    "start_time": "2023-05-10T22:09:01.814Z"
   },
   {
    "duration": 258,
    "start_time": "2023-05-10T22:09:02.192Z"
   },
   {
    "duration": 352,
    "start_time": "2023-05-10T22:09:02.452Z"
   },
   {
    "duration": 271,
    "start_time": "2023-05-10T22:09:02.806Z"
   },
   {
    "duration": 327,
    "start_time": "2023-05-10T22:09:03.079Z"
   },
   {
    "duration": 247,
    "start_time": "2023-05-10T22:09:03.408Z"
   },
   {
    "duration": 214,
    "start_time": "2023-05-10T22:09:03.657Z"
   },
   {
    "duration": 5,
    "start_time": "2023-05-10T22:09:03.873Z"
   },
   {
    "duration": 137,
    "start_time": "2023-05-10T22:09:03.892Z"
   },
   {
    "duration": 404,
    "start_time": "2023-05-10T22:09:04.031Z"
   },
   {
    "duration": 5,
    "start_time": "2023-05-10T22:09:04.437Z"
   },
   {
    "duration": 136,
    "start_time": "2023-05-10T22:09:04.444Z"
   },
   {
    "duration": 0,
    "start_time": "2023-05-10T22:09:04.582Z"
   },
   {
    "duration": 0,
    "start_time": "2023-05-10T22:09:04.592Z"
   },
   {
    "duration": 0,
    "start_time": "2023-05-10T22:09:04.593Z"
   },
   {
    "duration": 19,
    "start_time": "2023-05-10T22:09:51.845Z"
   },
   {
    "duration": 54,
    "start_time": "2023-05-10T22:10:00.750Z"
   },
   {
    "duration": 12,
    "start_time": "2023-05-10T22:18:21.020Z"
   },
   {
    "duration": 9,
    "start_time": "2023-05-10T22:18:29.432Z"
   },
   {
    "duration": 14,
    "start_time": "2023-05-10T22:23:47.404Z"
   },
   {
    "duration": 46,
    "start_time": "2023-05-10T22:24:37.037Z"
   },
   {
    "duration": 49,
    "start_time": "2023-05-10T22:24:57.727Z"
   },
   {
    "duration": 47,
    "start_time": "2023-05-10T22:25:57.812Z"
   },
   {
    "duration": 54,
    "start_time": "2023-05-10T22:26:28.884Z"
   },
   {
    "duration": 49,
    "start_time": "2023-05-10T22:26:39.219Z"
   },
   {
    "duration": 11,
    "start_time": "2023-05-10T22:31:31.115Z"
   },
   {
    "duration": 11,
    "start_time": "2023-05-10T22:32:08.657Z"
   },
   {
    "duration": 1405,
    "start_time": "2023-05-10T22:38:07.566Z"
   },
   {
    "duration": 1327,
    "start_time": "2023-05-10T22:38:22.815Z"
   },
   {
    "duration": 1375,
    "start_time": "2023-05-10T22:38:33.974Z"
   },
   {
    "duration": 4,
    "start_time": "2023-05-10T22:39:30.766Z"
   },
   {
    "duration": 1404,
    "start_time": "2023-05-10T22:39:44.854Z"
   },
   {
    "duration": 1377,
    "start_time": "2023-05-10T22:41:32.789Z"
   },
   {
    "duration": 1257,
    "start_time": "2023-05-10T22:41:39.746Z"
   },
   {
    "duration": 1489,
    "start_time": "2023-05-10T22:41:53.671Z"
   },
   {
    "duration": 10,
    "start_time": "2023-05-10T22:42:00.936Z"
   },
   {
    "duration": 29,
    "start_time": "2023-05-10T22:43:16.020Z"
   },
   {
    "duration": 9,
    "start_time": "2023-05-10T22:44:18.779Z"
   },
   {
    "duration": 9,
    "start_time": "2023-05-10T22:44:42.531Z"
   },
   {
    "duration": 3,
    "start_time": "2023-05-10T22:46:04.288Z"
   },
   {
    "duration": 5,
    "start_time": "2023-05-10T22:46:18.446Z"
   },
   {
    "duration": 5,
    "start_time": "2023-05-10T22:47:29.725Z"
   },
   {
    "duration": 13,
    "start_time": "2023-05-10T22:48:14.128Z"
   },
   {
    "duration": 7,
    "start_time": "2023-05-10T22:49:12.297Z"
   },
   {
    "duration": 2,
    "start_time": "2023-05-10T22:49:28.881Z"
   },
   {
    "duration": 3,
    "start_time": "2023-05-10T22:49:43.258Z"
   },
   {
    "duration": 9,
    "start_time": "2023-05-10T22:49:53.916Z"
   },
   {
    "duration": 1402,
    "start_time": "2023-05-10T22:51:40.746Z"
   },
   {
    "duration": 1290,
    "start_time": "2023-05-10T22:51:57.245Z"
   },
   {
    "duration": 15,
    "start_time": "2023-05-10T22:52:06.632Z"
   },
   {
    "duration": 22,
    "start_time": "2023-05-10T22:58:19.883Z"
   },
   {
    "duration": 1148,
    "start_time": "2023-05-10T23:14:27.614Z"
   },
   {
    "duration": 22,
    "start_time": "2023-05-10T23:14:28.765Z"
   },
   {
    "duration": 20,
    "start_time": "2023-05-10T23:14:28.789Z"
   },
   {
    "duration": 21,
    "start_time": "2023-05-10T23:14:28.810Z"
   },
   {
    "duration": 31,
    "start_time": "2023-05-10T23:14:28.834Z"
   },
   {
    "duration": 70,
    "start_time": "2023-05-10T23:14:28.867Z"
   },
   {
    "duration": 9,
    "start_time": "2023-05-10T23:14:28.938Z"
   },
   {
    "duration": 24,
    "start_time": "2023-05-10T23:14:28.948Z"
   },
   {
    "duration": 37,
    "start_time": "2023-05-10T23:14:28.974Z"
   },
   {
    "duration": 20,
    "start_time": "2023-05-10T23:14:29.012Z"
   },
   {
    "duration": 19,
    "start_time": "2023-05-10T23:14:29.034Z"
   },
   {
    "duration": 25,
    "start_time": "2023-05-10T23:14:29.054Z"
   },
   {
    "duration": 22,
    "start_time": "2023-05-10T23:14:29.080Z"
   },
   {
    "duration": 21,
    "start_time": "2023-05-10T23:14:29.106Z"
   },
   {
    "duration": 15,
    "start_time": "2023-05-10T23:14:29.128Z"
   },
   {
    "duration": 16,
    "start_time": "2023-05-10T23:14:29.145Z"
   },
   {
    "duration": 18,
    "start_time": "2023-05-10T23:14:29.162Z"
   },
   {
    "duration": 17,
    "start_time": "2023-05-10T23:14:29.181Z"
   },
   {
    "duration": 33,
    "start_time": "2023-05-10T23:14:29.205Z"
   },
   {
    "duration": 19,
    "start_time": "2023-05-10T23:14:29.239Z"
   },
   {
    "duration": 19,
    "start_time": "2023-05-10T23:14:29.260Z"
   },
   {
    "duration": 38,
    "start_time": "2023-05-10T23:14:29.281Z"
   },
   {
    "duration": 30,
    "start_time": "2023-05-10T23:14:29.321Z"
   },
   {
    "duration": 34,
    "start_time": "2023-05-10T23:14:29.353Z"
   },
   {
    "duration": 29,
    "start_time": "2023-05-10T23:14:29.389Z"
   },
   {
    "duration": 46,
    "start_time": "2023-05-10T23:14:29.420Z"
   },
   {
    "duration": 33,
    "start_time": "2023-05-10T23:14:29.468Z"
   },
   {
    "duration": 312,
    "start_time": "2023-05-10T23:14:29.511Z"
   },
   {
    "duration": 4,
    "start_time": "2023-05-10T23:14:29.825Z"
   },
   {
    "duration": 35,
    "start_time": "2023-05-10T23:14:29.831Z"
   },
   {
    "duration": 13,
    "start_time": "2023-05-10T23:14:29.868Z"
   },
   {
    "duration": 35,
    "start_time": "2023-05-10T23:14:29.883Z"
   },
   {
    "duration": 12,
    "start_time": "2023-05-10T23:14:29.920Z"
   },
   {
    "duration": 292,
    "start_time": "2023-05-10T23:14:29.934Z"
   },
   {
    "duration": 6,
    "start_time": "2023-05-10T23:14:30.228Z"
   },
   {
    "duration": 334,
    "start_time": "2023-05-10T23:14:30.235Z"
   },
   {
    "duration": 262,
    "start_time": "2023-05-10T23:14:30.571Z"
   },
   {
    "duration": 328,
    "start_time": "2023-05-10T23:14:30.835Z"
   },
   {
    "duration": 263,
    "start_time": "2023-05-10T23:14:31.164Z"
   },
   {
    "duration": 292,
    "start_time": "2023-05-10T23:14:31.429Z"
   },
   {
    "duration": 290,
    "start_time": "2023-05-10T23:14:31.725Z"
   },
   {
    "duration": 215,
    "start_time": "2023-05-10T23:14:32.017Z"
   },
   {
    "duration": 5,
    "start_time": "2023-05-10T23:14:32.234Z"
   },
   {
    "duration": 11,
    "start_time": "2023-05-10T23:14:32.241Z"
   },
   {
    "duration": 175,
    "start_time": "2023-05-10T23:14:32.254Z"
   },
   {
    "duration": 406,
    "start_time": "2023-05-10T23:14:32.431Z"
   },
   {
    "duration": 4,
    "start_time": "2023-05-10T23:14:32.839Z"
   },
   {
    "duration": 5,
    "start_time": "2023-05-10T23:14:32.845Z"
   },
   {
    "duration": 84,
    "start_time": "2023-05-10T23:14:32.852Z"
   },
   {
    "duration": 12,
    "start_time": "2023-05-10T23:14:32.937Z"
   },
   {
    "duration": 116,
    "start_time": "2023-05-10T23:14:32.950Z"
   },
   {
    "duration": 0,
    "start_time": "2023-05-10T23:14:33.067Z"
   },
   {
    "duration": 0,
    "start_time": "2023-05-10T23:14:33.069Z"
   },
   {
    "duration": 0,
    "start_time": "2023-05-10T23:14:33.070Z"
   },
   {
    "duration": 10,
    "start_time": "2023-05-10T23:15:44.975Z"
   },
   {
    "duration": 1177,
    "start_time": "2023-05-10T23:15:56.773Z"
   },
   {
    "duration": 23,
    "start_time": "2023-05-10T23:15:57.952Z"
   },
   {
    "duration": 14,
    "start_time": "2023-05-10T23:15:57.976Z"
   },
   {
    "duration": 18,
    "start_time": "2023-05-10T23:15:57.996Z"
   },
   {
    "duration": 16,
    "start_time": "2023-05-10T23:15:58.017Z"
   },
   {
    "duration": 45,
    "start_time": "2023-05-10T23:15:58.035Z"
   },
   {
    "duration": 12,
    "start_time": "2023-05-10T23:15:58.081Z"
   },
   {
    "duration": 11,
    "start_time": "2023-05-10T23:15:58.106Z"
   },
   {
    "duration": 7,
    "start_time": "2023-05-10T23:15:58.119Z"
   },
   {
    "duration": 3,
    "start_time": "2023-05-10T23:15:58.128Z"
   },
   {
    "duration": 13,
    "start_time": "2023-05-10T23:15:58.133Z"
   },
   {
    "duration": 30,
    "start_time": "2023-05-10T23:15:58.147Z"
   },
   {
    "duration": 11,
    "start_time": "2023-05-10T23:15:58.179Z"
   },
   {
    "duration": 22,
    "start_time": "2023-05-10T23:15:58.191Z"
   },
   {
    "duration": 7,
    "start_time": "2023-05-10T23:15:58.216Z"
   },
   {
    "duration": 15,
    "start_time": "2023-05-10T23:15:58.224Z"
   },
   {
    "duration": 9,
    "start_time": "2023-05-10T23:15:58.240Z"
   },
   {
    "duration": 5,
    "start_time": "2023-05-10T23:15:58.250Z"
   },
   {
    "duration": 9,
    "start_time": "2023-05-10T23:15:58.257Z"
   },
   {
    "duration": 11,
    "start_time": "2023-05-10T23:15:58.268Z"
   },
   {
    "duration": 16,
    "start_time": "2023-05-10T23:15:58.280Z"
   },
   {
    "duration": 17,
    "start_time": "2023-05-10T23:15:58.297Z"
   },
   {
    "duration": 4,
    "start_time": "2023-05-10T23:15:58.320Z"
   },
   {
    "duration": 12,
    "start_time": "2023-05-10T23:15:58.326Z"
   },
   {
    "duration": 6,
    "start_time": "2023-05-10T23:15:58.340Z"
   },
   {
    "duration": 9,
    "start_time": "2023-05-10T23:15:58.347Z"
   },
   {
    "duration": 9,
    "start_time": "2023-05-10T23:15:58.357Z"
   },
   {
    "duration": 315,
    "start_time": "2023-05-10T23:15:58.370Z"
   },
   {
    "duration": 17,
    "start_time": "2023-05-10T23:15:58.693Z"
   },
   {
    "duration": 6,
    "start_time": "2023-05-10T23:15:58.716Z"
   },
   {
    "duration": 38,
    "start_time": "2023-05-10T23:15:58.724Z"
   },
   {
    "duration": 51,
    "start_time": "2023-05-10T23:15:58.763Z"
   },
   {
    "duration": 9,
    "start_time": "2023-05-10T23:15:58.816Z"
   },
   {
    "duration": 301,
    "start_time": "2023-05-10T23:15:58.827Z"
   },
   {
    "duration": 6,
    "start_time": "2023-05-10T23:15:59.130Z"
   },
   {
    "duration": 338,
    "start_time": "2023-05-10T23:15:59.138Z"
   },
   {
    "duration": 243,
    "start_time": "2023-05-10T23:15:59.477Z"
   },
   {
    "duration": 325,
    "start_time": "2023-05-10T23:15:59.721Z"
   },
   {
    "duration": 254,
    "start_time": "2023-05-10T23:16:00.047Z"
   },
   {
    "duration": 305,
    "start_time": "2023-05-10T23:16:00.310Z"
   },
   {
    "duration": 253,
    "start_time": "2023-05-10T23:16:00.617Z"
   },
   {
    "duration": 223,
    "start_time": "2023-05-10T23:16:00.873Z"
   },
   {
    "duration": 6,
    "start_time": "2023-05-10T23:16:01.101Z"
   },
   {
    "duration": 30,
    "start_time": "2023-05-10T23:16:01.115Z"
   },
   {
    "duration": 173,
    "start_time": "2023-05-10T23:16:01.147Z"
   },
   {
    "duration": 433,
    "start_time": "2023-05-10T23:16:01.322Z"
   },
   {
    "duration": 4,
    "start_time": "2023-05-10T23:16:01.757Z"
   },
   {
    "duration": 47,
    "start_time": "2023-05-10T23:16:01.763Z"
   },
   {
    "duration": 63,
    "start_time": "2023-05-10T23:16:01.818Z"
   },
   {
    "duration": 19,
    "start_time": "2023-05-10T23:16:01.883Z"
   },
   {
    "duration": 30,
    "start_time": "2023-05-10T23:16:01.906Z"
   },
   {
    "duration": 36,
    "start_time": "2023-05-10T23:16:01.938Z"
   },
   {
    "duration": 21,
    "start_time": "2023-05-10T23:16:01.976Z"
   },
   {
    "duration": 31,
    "start_time": "2023-05-10T23:16:45.404Z"
   },
   {
    "duration": 1162,
    "start_time": "2023-05-10T23:17:01.721Z"
   },
   {
    "duration": 42,
    "start_time": "2023-05-10T23:17:02.885Z"
   },
   {
    "duration": 13,
    "start_time": "2023-05-10T23:17:02.928Z"
   },
   {
    "duration": 16,
    "start_time": "2023-05-10T23:17:02.943Z"
   },
   {
    "duration": 8,
    "start_time": "2023-05-10T23:17:02.961Z"
   },
   {
    "duration": 63,
    "start_time": "2023-05-10T23:17:02.971Z"
   },
   {
    "duration": 8,
    "start_time": "2023-05-10T23:17:03.035Z"
   },
   {
    "duration": 21,
    "start_time": "2023-05-10T23:17:03.044Z"
   },
   {
    "duration": 5,
    "start_time": "2023-05-10T23:17:03.066Z"
   },
   {
    "duration": 4,
    "start_time": "2023-05-10T23:17:03.073Z"
   },
   {
    "duration": 9,
    "start_time": "2023-05-10T23:17:03.078Z"
   },
   {
    "duration": 30,
    "start_time": "2023-05-10T23:17:03.088Z"
   },
   {
    "duration": 20,
    "start_time": "2023-05-10T23:17:03.120Z"
   },
   {
    "duration": 4,
    "start_time": "2023-05-10T23:17:03.143Z"
   },
   {
    "duration": 6,
    "start_time": "2023-05-10T23:17:03.149Z"
   },
   {
    "duration": 23,
    "start_time": "2023-05-10T23:17:03.156Z"
   },
   {
    "duration": 6,
    "start_time": "2023-05-10T23:17:03.180Z"
   },
   {
    "duration": 25,
    "start_time": "2023-05-10T23:17:03.187Z"
   },
   {
    "duration": 12,
    "start_time": "2023-05-10T23:17:03.213Z"
   },
   {
    "duration": 14,
    "start_time": "2023-05-10T23:17:03.226Z"
   },
   {
    "duration": 13,
    "start_time": "2023-05-10T23:17:03.241Z"
   },
   {
    "duration": 15,
    "start_time": "2023-05-10T23:17:03.255Z"
   },
   {
    "duration": 11,
    "start_time": "2023-05-10T23:17:03.271Z"
   },
   {
    "duration": 26,
    "start_time": "2023-05-10T23:17:03.283Z"
   },
   {
    "duration": 7,
    "start_time": "2023-05-10T23:17:03.310Z"
   },
   {
    "duration": 15,
    "start_time": "2023-05-10T23:17:03.318Z"
   },
   {
    "duration": 16,
    "start_time": "2023-05-10T23:17:03.334Z"
   },
   {
    "duration": 299,
    "start_time": "2023-05-10T23:17:03.351Z"
   },
   {
    "duration": 4,
    "start_time": "2023-05-10T23:17:03.651Z"
   },
   {
    "duration": 9,
    "start_time": "2023-05-10T23:17:03.656Z"
   },
   {
    "duration": 10,
    "start_time": "2023-05-10T23:17:03.666Z"
   },
   {
    "duration": 18,
    "start_time": "2023-05-10T23:17:03.678Z"
   },
   {
    "duration": 24,
    "start_time": "2023-05-10T23:17:03.697Z"
   },
   {
    "duration": 292,
    "start_time": "2023-05-10T23:17:03.723Z"
   },
   {
    "duration": 6,
    "start_time": "2023-05-10T23:17:04.016Z"
   },
   {
    "duration": 318,
    "start_time": "2023-05-10T23:17:04.024Z"
   },
   {
    "duration": 244,
    "start_time": "2023-05-10T23:17:04.343Z"
   },
   {
    "duration": 337,
    "start_time": "2023-05-10T23:17:04.591Z"
   },
   {
    "duration": 239,
    "start_time": "2023-05-10T23:17:04.930Z"
   },
   {
    "duration": 310,
    "start_time": "2023-05-10T23:17:05.170Z"
   },
   {
    "duration": 247,
    "start_time": "2023-05-10T23:17:05.493Z"
   },
   {
    "duration": 206,
    "start_time": "2023-05-10T23:17:05.741Z"
   },
   {
    "duration": 4,
    "start_time": "2023-05-10T23:17:05.949Z"
   },
   {
    "duration": 9,
    "start_time": "2023-05-10T23:17:05.955Z"
   },
   {
    "duration": 139,
    "start_time": "2023-05-10T23:17:05.966Z"
   },
   {
    "duration": 385,
    "start_time": "2023-05-10T23:17:06.107Z"
   },
   {
    "duration": 14,
    "start_time": "2023-05-10T23:17:06.493Z"
   },
   {
    "duration": 6,
    "start_time": "2023-05-10T23:17:06.513Z"
   },
   {
    "duration": 50,
    "start_time": "2023-05-10T23:17:06.520Z"
   },
   {
    "duration": 25,
    "start_time": "2023-05-10T23:17:06.571Z"
   },
   {
    "duration": 17,
    "start_time": "2023-05-10T23:17:06.598Z"
   },
   {
    "duration": 27,
    "start_time": "2023-05-10T23:17:06.618Z"
   },
   {
    "duration": 15,
    "start_time": "2023-05-10T23:17:06.646Z"
   },
   {
    "duration": 580,
    "start_time": "2023-05-11T14:12:02.096Z"
   }
  ],
  "kernelspec": {
   "display_name": "Python 3 (ipykernel)",
   "language": "python",
   "name": "python3"
  },
  "language_info": {
   "codemirror_mode": {
    "name": "ipython",
    "version": 3
   },
   "file_extension": ".py",
   "mimetype": "text/x-python",
   "name": "python",
   "nbconvert_exporter": "python",
   "pygments_lexer": "ipython3",
   "version": "3.9.13"
  },
  "toc": {
   "base_numbering": 1,
   "nav_menu": {},
   "number_sections": true,
   "sideBar": true,
   "skip_h1_title": true,
   "title_cell": "Table of Contents",
   "title_sidebar": "Contents",
   "toc_cell": false,
   "toc_position": {},
   "toc_section_display": true,
   "toc_window_display": false
  }
 },
 "nbformat": 4,
 "nbformat_minor": 2
}
